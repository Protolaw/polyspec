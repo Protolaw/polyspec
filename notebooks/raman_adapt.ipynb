{
 "cells": [
  {
   "cell_type": "code",
   "execution_count": 34,
   "id": "2c51f3f2-ae05-46e5-b0d6-fec782a18f5e",
   "metadata": {},
   "outputs": [],
   "source": [
    "import numpy as np\n",
    "import pandas as pd\n",
    "from tqdm import tqdm\n",
    "import os"
   ]
  },
  {
   "cell_type": "code",
   "execution_count": 39,
   "id": "6a50113b-8f12-4249-bda0-af11f458a155",
   "metadata": {},
   "outputs": [],
   "source": [
    "mol = 'SO2'\n",
    "mol_path = f'./{mol}'\n",
    "tables = '../tables'"
   ]
  },
  {
   "cell_type": "code",
   "execution_count": 21,
   "id": "8af05e43-8a53-46e0-8d4d-4b2763462be9",
   "metadata": {},
   "outputs": [],
   "source": [
    "# Constants\n",
    "pi = np.pi\n",
    "h_k = 3.15775e5  # h_bar/K value (in Sec.K)"
   ]
  },
  {
   "cell_type": "code",
   "execution_count": 22,
   "id": "a277740d-bfe6-455f-9378-f8d5b8120cac",
   "metadata": {},
   "outputs": [
    {
     "name": "stdin",
     "output_type": "stream",
     "text": [
      "Give wavelength (in nm) of incident light:   532\n",
      "Give the temp(in K):  300\n"
     ]
    }
   ],
   "source": [
    "# Read input data\n",
    "n_in = float(input(\"Give wavelength (in nm) of incident light:  \"))\n",
    "w_in = 45.613245464 / n_in  # in a.u\n",
    "temp = float(input(\"Give the temp(in K): \"))"
   ]
  },
  {
   "cell_type": "code",
   "execution_count": 57,
   "id": "e62beb7c-0876-4c31-9db7-4dffefe8683b",
   "metadata": {},
   "outputs": [],
   "source": [
    "# Read autocorrelation data\n",
    "# ac_data = np.loadtxt(f\"{tables}/{mol}_acorr_sep.csv\")\n",
    "ac_data = np.loadtxt(f\"./tables/{mol}_acorr_sep.csv\")\n",
    "# ac_data = pd.read_csv(f'./tables/{mol}_acorr.csv')\n",
    "# ac_data\n",
    "tot_struct = len(ac_data)\n",
    "# dt = ac_data[1, 0] - ac_data[0, 0]\n",
    "dt = 0.0014"
   ]
  },
  {
   "cell_type": "code",
   "execution_count": 51,
   "id": "6aed3940-09dd-412f-a54b-d87b3c492f6c",
   "metadata": {},
   "outputs": [
    {
     "data": {
      "text/plain": [
       "0.0014"
      ]
     },
     "execution_count": 51,
     "metadata": {},
     "output_type": "execute_result"
    }
   ],
   "source": [
    "dt"
   ]
  },
  {
   "cell_type": "code",
   "execution_count": 6,
   "id": "86692033-9be2-4f67-829c-38f0e13a41be",
   "metadata": {},
   "outputs": [
    {
     "ename": "KeyboardInterrupt",
     "evalue": "",
     "output_type": "error",
     "traceback": [
      "\u001b[0;31m---------------------------------------------------------------------------\u001b[0m",
      "\u001b[0;31mKeyboardInterrupt\u001b[0m                         Traceback (most recent call last)",
      "\u001b[0;32m/tmp/ipykernel_9387/3787674639.py\u001b[0m in \u001b[0;36m<module>\u001b[0;34m\u001b[0m\n\u001b[1;32m     12\u001b[0m             \u001b[0;32mfor\u001b[0m \u001b[0mi\u001b[0m \u001b[0;32min\u001b[0m \u001b[0mrange\u001b[0m\u001b[0;34m(\u001b[0m\u001b[0mtot_struct\u001b[0m\u001b[0;34m)\u001b[0m\u001b[0;34m:\u001b[0m\u001b[0;34m\u001b[0m\u001b[0;34m\u001b[0m\u001b[0m\n\u001b[1;32m     13\u001b[0m                 \u001b[0msum_fourier_cos\u001b[0m \u001b[0;34m+=\u001b[0m \u001b[0mac_data\u001b[0m\u001b[0;34m[\u001b[0m\u001b[0mi\u001b[0m\u001b[0;34m,\u001b[0m \u001b[0;36m1\u001b[0m\u001b[0;34m]\u001b[0m \u001b[0;34m*\u001b[0m \u001b[0mnp\u001b[0m\u001b[0;34m.\u001b[0m\u001b[0mcos\u001b[0m\u001b[0;34m(\u001b[0m\u001b[0;36m2\u001b[0m \u001b[0;34m*\u001b[0m \u001b[0mpi\u001b[0m \u001b[0;34m*\u001b[0m \u001b[0mi\u001b[0m \u001b[0;34m*\u001b[0m \u001b[0mk\u001b[0m \u001b[0;34m/\u001b[0m \u001b[0mtot_struct\u001b[0m\u001b[0;34m)\u001b[0m\u001b[0;34m\u001b[0m\u001b[0;34m\u001b[0m\u001b[0m\n\u001b[0;32m---> 14\u001b[0;31m                 \u001b[0msum_fourier_sin\u001b[0m \u001b[0;34m+=\u001b[0m \u001b[0mac_data\u001b[0m\u001b[0;34m[\u001b[0m\u001b[0mi\u001b[0m\u001b[0;34m,\u001b[0m \u001b[0;36m1\u001b[0m\u001b[0;34m]\u001b[0m \u001b[0;34m*\u001b[0m \u001b[0mnp\u001b[0m\u001b[0;34m.\u001b[0m\u001b[0msin\u001b[0m\u001b[0;34m(\u001b[0m\u001b[0;36m2\u001b[0m \u001b[0;34m*\u001b[0m \u001b[0mpi\u001b[0m \u001b[0;34m*\u001b[0m \u001b[0mi\u001b[0m \u001b[0;34m*\u001b[0m \u001b[0mk\u001b[0m \u001b[0;34m/\u001b[0m \u001b[0mtot_struct\u001b[0m\u001b[0;34m)\u001b[0m\u001b[0;34m\u001b[0m\u001b[0;34m\u001b[0m\u001b[0m\n\u001b[0m\u001b[1;32m     15\u001b[0m \u001b[0;34m\u001b[0m\u001b[0m\n\u001b[1;32m     16\u001b[0m             \u001b[0mintegration\u001b[0m \u001b[0;34m=\u001b[0m \u001b[0mnp\u001b[0m\u001b[0;34m.\u001b[0m\u001b[0msqrt\u001b[0m\u001b[0;34m(\u001b[0m\u001b[0msum_fourier_cos\u001b[0m\u001b[0;34m**\u001b[0m\u001b[0;36m2\u001b[0m \u001b[0;34m+\u001b[0m \u001b[0msum_fourier_sin\u001b[0m\u001b[0;34m**\u001b[0m\u001b[0;36m2\u001b[0m\u001b[0;34m)\u001b[0m\u001b[0;34m\u001b[0m\u001b[0;34m\u001b[0m\u001b[0m\n",
      "\u001b[0;31mKeyboardInterrupt\u001b[0m: "
     ]
    }
   ],
   "source": [
    "# Calculate Raman spectrum\n",
    "with open(\"Raman_11_model\", \"w\") as outfile:\n",
    "    for k in tqdm(range(-tot_struct // 2, tot_struct // 2 + 1)):\n",
    "        sum_fourier_cos = 0.0\n",
    "        sum_fourier_sin = 0.0\n",
    "\n",
    "        if k != 0:\n",
    "            f = k / (tot_struct * dt)\n",
    "            wavenum = 33.333333 * f  # wavenumber in cm-1\n",
    "            w = 1.5204417e-4 * f  # in a.u.\n",
    "\n",
    "            for i in range(tot_struct):\n",
    "                sum_fourier_cos += ac_data[i, 1] * np.cos(2 * pi * i * k / tot_struct)\n",
    "                sum_fourier_sin += ac_data[i, 1] * np.sin(2 * pi * i * k / tot_struct)\n",
    "\n",
    "            integration = np.sqrt(sum_fourier_cos**2 + sum_fourier_sin**2)\n",
    "            exp_part = np.exp(-h_k * w / temp)\n",
    "            r = ((w_in - w)**4 / (w * (1 - exp_part))) * integration\n",
    "\n",
    "            outfile.write(f\"{wavenum} {r}\\n\")"
   ]
  },
  {
   "cell_type": "code",
   "execution_count": 58,
   "id": "385a1054-8182-4837-96f7-23ff6db8a319",
   "metadata": {},
   "outputs": [
    {
     "name": "stderr",
     "output_type": "stream",
     "text": [
      " 50%|███████▉        | 8271/16552 [03:06<02:33, 54.01it/s]/tmp/ipykernel_9387/1279666852.py:20: RuntimeWarning: divide by zero encountered in double_scalars\n",
      "  r = ((w_in - w)**4 / (w * (1 - exp_part))) * integration\n",
      "100%|███████████████| 16552/16552 [06:16<00:00, 44.00it/s]\n"
     ]
    }
   ],
   "source": [
    "# Vectorized functions for calculating Fourier sums\n",
    "cos_func = np.vectorize(np.cos)\n",
    "sin_func = np.vectorize(np.sin)\n",
    "\n",
    "with open(f\"./tables/{mol}_raman.csv\", \"w\") as outfile:\n",
    "    for k in tqdm(range(-tot_struct // 2, tot_struct // 2 + 1)):\n",
    "\n",
    "        # Calculate wavenumber and frequency\n",
    "        f = k / (tot_struct * dt)\n",
    "        wavenum = 33.333333 * f  # wavenumber in cm-1\n",
    "        w = 1.5204417e-4 * f  # in a.u.\n",
    "\n",
    "        # Calculate Fourier sums using vectorized functions\n",
    "        sum_fourier_cos = np.sum(cos_func(2 * np.pi * np.arange(tot_struct) * k / tot_struct) * ac_data[:, 1])\n",
    "        sum_fourier_sin = np.sum(sin_func(2 * np.pi * np.arange(tot_struct) * k / tot_struct) * ac_data[:, 1])\n",
    "\n",
    "        # Calculate integration, exponential part, and Raman intensity\n",
    "        integration = np.sqrt(sum_fourier_cos**2 + sum_fourier_sin**2)\n",
    "        exp_part = np.exp(-h_k * w / temp)\n",
    "        r = ((w_in - w)**4 / (w * (1 - exp_part))) * integration\n",
    "\n",
    "        # Write Raman intensity to file\n",
    "        outfile.write(f\"{wavenum},{r}\\n\")\n"
   ]
  },
  {
   "cell_type": "code",
   "execution_count": null,
   "id": "f8039a1e-1cf5-4fc8-832f-0f3e4db84b50",
   "metadata": {},
   "outputs": [],
   "source": []
  }
 ],
 "metadata": {
  "kernelspec": {
   "display_name": "Python 3 (ipykernel)",
   "language": "python",
   "name": "python3"
  },
  "language_info": {
   "codemirror_mode": {
    "name": "ipython",
    "version": 3
   },
   "file_extension": ".py",
   "mimetype": "text/x-python",
   "name": "python",
   "nbconvert_exporter": "python",
   "pygments_lexer": "ipython3",
   "version": "3.8.10"
  }
 },
 "nbformat": 4,
 "nbformat_minor": 5
}
