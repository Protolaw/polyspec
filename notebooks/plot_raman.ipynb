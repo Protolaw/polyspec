{
 "cells": [
  {
   "cell_type": "code",
   "execution_count": 30,
   "id": "71764901-7390-451d-b930-25e74adad9e9",
   "metadata": {},
   "outputs": [],
   "source": [
    "import pandas as pd\n",
    "import numpy as np\n",
    "import matplotlib.pyplot as plt"
   ]
  },
  {
   "cell_type": "code",
   "execution_count": 31,
   "id": "d7ab1f8e-e4a9-4c4a-b292-82ee8c4cc8e3",
   "metadata": {},
   "outputs": [],
   "source": [
    "mol = 'SO2'\n",
    "tables = '../tables'"
   ]
  },
  {
   "cell_type": "code",
   "execution_count": 32,
   "id": "12ee04eb-9e09-49ec-b76d-a0820b755b31",
   "metadata": {},
   "outputs": [
    {
     "data": {
      "text/html": [
       "<div>\n",
       "<style scoped>\n",
       "    .dataframe tbody tr th:only-of-type {\n",
       "        vertical-align: middle;\n",
       "    }\n",
       "\n",
       "    .dataframe tbody tr th {\n",
       "        vertical-align: top;\n",
       "    }\n",
       "\n",
       "    .dataframe thead th {\n",
       "        text-align: right;\n",
       "    }\n",
       "</style>\n",
       "<table border=\"1\" class=\"dataframe\">\n",
       "  <thead>\n",
       "    <tr style=\"text-align: right;\">\n",
       "      <th></th>\n",
       "      <th>freqs</th>\n",
       "      <th>intensity</th>\n",
       "    </tr>\n",
       "  </thead>\n",
       "  <tbody>\n",
       "    <tr>\n",
       "      <th>0</th>\n",
       "      <td>-11905.481063</td>\n",
       "      <td>5.306260e-28</td>\n",
       "    </tr>\n",
       "    <tr>\n",
       "      <th>1</th>\n",
       "      <td>-11904.042508</td>\n",
       "      <td>5.342680e-28</td>\n",
       "    </tr>\n",
       "    <tr>\n",
       "      <th>2</th>\n",
       "      <td>-11902.603953</td>\n",
       "      <td>5.379353e-28</td>\n",
       "    </tr>\n",
       "    <tr>\n",
       "      <th>3</th>\n",
       "      <td>-11901.165398</td>\n",
       "      <td>5.416271e-28</td>\n",
       "    </tr>\n",
       "    <tr>\n",
       "      <th>4</th>\n",
       "      <td>-11899.726843</td>\n",
       "      <td>5.453454e-28</td>\n",
       "    </tr>\n",
       "    <tr>\n",
       "      <th>...</th>\n",
       "      <td>...</td>\n",
       "      <td>...</td>\n",
       "    </tr>\n",
       "    <tr>\n",
       "      <th>16547</th>\n",
       "      <td>11898.288288</td>\n",
       "      <td>9.032941e-06</td>\n",
       "    </tr>\n",
       "    <tr>\n",
       "      <th>16548</th>\n",
       "      <td>11899.726843</td>\n",
       "      <td>9.024310e-06</td>\n",
       "    </tr>\n",
       "    <tr>\n",
       "      <th>16549</th>\n",
       "      <td>11901.165398</td>\n",
       "      <td>9.015681e-06</td>\n",
       "    </tr>\n",
       "    <tr>\n",
       "      <th>16550</th>\n",
       "      <td>11902.603953</td>\n",
       "      <td>9.007078e-06</td>\n",
       "    </tr>\n",
       "    <tr>\n",
       "      <th>16551</th>\n",
       "      <td>11904.042508</td>\n",
       "      <td>8.998470e-06</td>\n",
       "    </tr>\n",
       "  </tbody>\n",
       "</table>\n",
       "<p>16552 rows × 2 columns</p>\n",
       "</div>"
      ],
      "text/plain": [
       "              freqs     intensity\n",
       "0     -11905.481063  5.306260e-28\n",
       "1     -11904.042508  5.342680e-28\n",
       "2     -11902.603953  5.379353e-28\n",
       "3     -11901.165398  5.416271e-28\n",
       "4     -11899.726843  5.453454e-28\n",
       "...             ...           ...\n",
       "16547  11898.288288  9.032941e-06\n",
       "16548  11899.726843  9.024310e-06\n",
       "16549  11901.165398  9.015681e-06\n",
       "16550  11902.603953  9.007078e-06\n",
       "16551  11904.042508  8.998470e-06\n",
       "\n",
       "[16552 rows x 2 columns]"
      ]
     },
     "execution_count": 32,
     "metadata": {},
     "output_type": "execute_result"
    }
   ],
   "source": [
    "# df = pd.read_table('../Raman_11_model', names=['freqs', 'intensity'], sep='\\s+')\n",
    "# df = pd.read_table('../raman_plot', names=['freqs', 'intensity'], sep='\\s+')\n",
    "df = pd.read_csv(f'{tables}/{mol}_raman.csv', names=['freqs', 'intensity'])\n",
    "df"
   ]
  },
  {
   "cell_type": "code",
   "execution_count": 33,
   "id": "4b776ec4-21c7-4329-9120-f63610eaebe1",
   "metadata": {},
   "outputs": [
    {
     "name": "stdout",
     "output_type": "stream",
     "text": [
      "16552\n"
     ]
    },
    {
     "data": {
      "image/png": "[encoded data removed]",
      "text/plain": [
       "<Figure size 720x720 with 1 Axes>"
      ]
     },
     "metadata": {
      "needs_background": "light"
     },
     "output_type": "display_data"
    }
   ],
   "source": [
    "size = df.shape[0]\n",
    "# size = 100\n",
    "\n",
    "print(size)\n",
    "# raman_intensity = raman_intensity/ max(raman_intensity)\n",
    "plt.figure(figsize=(10,10));\n",
    "# plt.axvline(x=freqs[:size], ymax=raman_intensity[:size])\n",
    "# plt.plot(df.freqs[:size], df.intensity[:size])\n",
    "plt.plot(df.freqs, df.intensity)\n",
    "plt.xlabel(\"Frequency (cm-1)\")\n",
    "plt.ylabel(\"Raman Intensity\")\n",
    "# plt.xlim([-2000, 2000])\n",
    "# plt.xlim([1000, 1500])\n",
    "plt.xlim([0, 1600])\n",
    "# plt.ylim([-0.1, 0.1])\n",
    "# plt.grid()\n",
    "plt.show()\n",
    "# plt.savefig('so2_raman_try.png')"
   ]
  },
  {
   "cell_type": "code",
   "execution_count": null,
   "id": "0389fa97-61db-497d-b7d8-2e7274fc8c6b",
   "metadata": {},
   "outputs": [],
   "source": []
  }
 ],
 "metadata": {
  "kernelspec": {
   "display_name": "Python 3 (ipykernel)",
   "language": "python",
   "name": "python3"
  },
  "language_info": {
   "codemirror_mode": {
    "name": "ipython",
    "version": 3
   },
   "file_extension": ".py",
   "mimetype": "text/x-python",
   "name": "python",
   "nbconvert_exporter": "python",
   "pygments_lexer": "ipython3",
   "version": "3.8.10"
  }
 },
 "nbformat": 4,
 "nbformat_minor": 5
}
