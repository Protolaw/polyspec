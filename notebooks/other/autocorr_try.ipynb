{
 "cells": [
  {
   "cell_type": "code",
   "execution_count": 24,
   "id": "4a609667-1e45-46d5-90a2-0e15447fad69",
   "metadata": {},
   "outputs": [],
   "source": [
    "import pandas as pd\n",
    "import numpy as np\n",
    "import os\n",
    "from tqdm import tqdm\n",
    "import matplotlib.pyplot as plt"
   ]
  },
  {
   "cell_type": "code",
   "execution_count": 7,
   "id": "be3b9e8c-b4e6-41bf-b55c-1cca42589298",
   "metadata": {},
   "outputs": [],
   "source": [
    "mol = \"CO2\"\n",
    "mol_path = f'./{mol}'"
   ]
  },
  {
   "cell_type": "code",
   "execution_count": 8,
   "id": "eb312acd-3e8c-4dc7-baf2-8fcf05264ba7",
   "metadata": {},
   "outputs": [],
   "source": [
    "df = pd.read_csv(f'CO2_deriv_x.csv')"
   ]
  },
  {
   "cell_type": "code",
   "execution_count": 15,
   "id": "3cec7230-cf30-4e70-aeac-fa402fb73ae8",
   "metadata": {},
   "outputs": [
    {
     "data": {
      "text/html": [
       "<div>\n",
       "<style scoped>\n",
       "    .dataframe tbody tr th:only-of-type {\n",
       "        vertical-align: middle;\n",
       "    }\n",
       "\n",
       "    .dataframe tbody tr th {\n",
       "        vertical-align: top;\n",
       "    }\n",
       "\n",
       "    .dataframe thead th {\n",
       "        text-align: right;\n",
       "    }\n",
       "</style>\n",
       "<table border=\"1\" class=\"dataframe\">\n",
       "  <thead>\n",
       "    <tr style=\"text-align: right;\">\n",
       "      <th></th>\n",
       "      <th>time</th>\n",
       "      <th>pred_polar_x</th>\n",
       "      <th>deriv</th>\n",
       "    </tr>\n",
       "  </thead>\n",
       "  <tbody>\n",
       "    <tr>\n",
       "      <th>0</th>\n",
       "      <td>0.0000</td>\n",
       "      <td>0.041919</td>\n",
       "      <td>NaN</td>\n",
       "    </tr>\n",
       "    <tr>\n",
       "      <th>1</th>\n",
       "      <td>0.0014</td>\n",
       "      <td>0.042043</td>\n",
       "      <td>0.088768</td>\n",
       "    </tr>\n",
       "    <tr>\n",
       "      <th>2</th>\n",
       "      <td>0.0029</td>\n",
       "      <td>0.042166</td>\n",
       "      <td>0.082020</td>\n",
       "    </tr>\n",
       "    <tr>\n",
       "      <th>3</th>\n",
       "      <td>0.0043</td>\n",
       "      <td>0.042282</td>\n",
       "      <td>0.082671</td>\n",
       "    </tr>\n",
       "    <tr>\n",
       "      <th>4</th>\n",
       "      <td>0.0058</td>\n",
       "      <td>0.042386</td>\n",
       "      <td>0.069836</td>\n",
       "    </tr>\n",
       "    <tr>\n",
       "      <th>...</th>\n",
       "      <td>...</td>\n",
       "      <td>...</td>\n",
       "      <td>...</td>\n",
       "    </tr>\n",
       "    <tr>\n",
       "      <th>19995</th>\n",
       "      <td>29.0193</td>\n",
       "      <td>0.042996</td>\n",
       "      <td>0.065301</td>\n",
       "    </tr>\n",
       "    <tr>\n",
       "      <th>19996</th>\n",
       "      <td>29.0208</td>\n",
       "      <td>0.043097</td>\n",
       "      <td>0.067126</td>\n",
       "    </tr>\n",
       "    <tr>\n",
       "      <th>19997</th>\n",
       "      <td>29.0222</td>\n",
       "      <td>0.043214</td>\n",
       "      <td>0.084111</td>\n",
       "    </tr>\n",
       "    <tr>\n",
       "      <th>19998</th>\n",
       "      <td>29.0237</td>\n",
       "      <td>0.043357</td>\n",
       "      <td>0.095136</td>\n",
       "    </tr>\n",
       "    <tr>\n",
       "      <th>19999</th>\n",
       "      <td>29.0251</td>\n",
       "      <td>0.043531</td>\n",
       "      <td>0.123904</td>\n",
       "    </tr>\n",
       "  </tbody>\n",
       "</table>\n",
       "<p>20000 rows × 3 columns</p>\n",
       "</div>"
      ],
      "text/plain": [
       "          time  pred_polar_x     deriv\n",
       "0       0.0000      0.041919       NaN\n",
       "1       0.0014      0.042043  0.088768\n",
       "2       0.0029      0.042166  0.082020\n",
       "3       0.0043      0.042282  0.082671\n",
       "4       0.0058      0.042386  0.069836\n",
       "...        ...           ...       ...\n",
       "19995  29.0193      0.042996  0.065301\n",
       "19996  29.0208      0.043097  0.067126\n",
       "19997  29.0222      0.043214  0.084111\n",
       "19998  29.0237      0.043357  0.095136\n",
       "19999  29.0251      0.043531  0.123904\n",
       "\n",
       "[20000 rows x 3 columns]"
      ]
     },
     "execution_count": 15,
     "metadata": {},
     "output_type": "execute_result"
    }
   ],
   "source": [
    "df"
   ]
  },
  {
   "cell_type": "code",
   "execution_count": 16,
   "id": "edff39ab-8aed-493c-99c4-5ab7c0a366f8",
   "metadata": {},
   "outputs": [],
   "source": [
    "time_steps = df.time"
   ]
  },
  {
   "cell_type": "code",
   "execution_count": 11,
   "id": "ed731e0b-bbb2-4272-a6ed-52378a88ffa9",
   "metadata": {},
   "outputs": [],
   "source": [
    "# Numpy 1\n",
    "def autocorrelation1(data):\n",
    "    mean = np.mean(data)\n",
    "    var = np.var(data)\n",
    "    ndata = data - mean\n",
    "    acorr = np.correlate(ndata, ndata, 'full')[len(ndata)-1:] \n",
    "    acorr = acorr / var / len(ndata)\n",
    "    return acorr"
   ]
  },
  {
   "cell_type": "code",
   "execution_count": 12,
   "id": "18bf8faa-85da-47a4-a7be-b63faefc2fe8",
   "metadata": {},
   "outputs": [],
   "source": [
    "# Numpy 2\n",
    "def autocorrelation2(data):\n",
    "    xp = (data - np.mean(data))/np.std(data)\n",
    "    result = np.correlate(xp, xp, mode='full')\n",
    "    return result[result.size//2:]/len(xp)"
   ]
  },
  {
   "cell_type": "code",
   "execution_count": 23,
   "id": "40e8ccc1-ef87-4ae7-b17f-90951c242bf2",
   "metadata": {},
   "outputs": [
    {
     "name": "stdout",
     "output_type": "stream",
     "text": [
      "Fast Fourie Transform Numpy 2\n"
     ]
    },
    {
     "ename": "NameError",
     "evalue": "name 'n' is not defined",
     "output_type": "error",
     "traceback": [
      "\u001b[0;31m---------------------------------------------------------------------------\u001b[0m",
      "\u001b[0;31mNameError\u001b[0m                                 Traceback (most recent call last)",
      "Cell \u001b[0;32mIn[23], line 8\u001b[0m\n\u001b[1;32m      1\u001b[0m \u001b[38;5;66;03m# acorr1 = autocorrelation1(df.pred_polar_x)\u001b[39;00m\n\u001b[1;32m      2\u001b[0m \u001b[38;5;66;03m# acorr2 = autocorrelation2(df.pred_polar_x)\u001b[39;00m\n\u001b[1;32m      3\u001b[0m \u001b[38;5;66;03m# print('Manual - pure python')\u001b[39;00m\n\u001b[1;32m      4\u001b[0m \u001b[38;5;66;03m# acorr3 = autocorrelation3(df.pred_polar_x)\u001b[39;00m\n\u001b[1;32m      5\u001b[0m \u001b[38;5;66;03m# print('Fast Fourie Transform Numpy')\u001b[39;00m\n\u001b[1;32m      6\u001b[0m \u001b[38;5;66;03m# accor4 = autocorrelation4(df.pred_polar_x)\u001b[39;00m\n\u001b[1;32m      7\u001b[0m \u001b[38;5;28mprint\u001b[39m(\u001b[38;5;124m'\u001b[39m\u001b[38;5;124mFast Fourie Transform Numpy 2\u001b[39m\u001b[38;5;124m'\u001b[39m)\n\u001b[0;32m----> 8\u001b[0m accor5 \u001b[38;5;241m=\u001b[39m \u001b[43mautocorrelation5\u001b[49m\u001b[43m(\u001b[49m\u001b[43mdf\u001b[49m\u001b[38;5;241;43m.\u001b[39;49m\u001b[43mpred_polar_x\u001b[49m\u001b[43m)\u001b[49m\n",
      "Cell \u001b[0;32mIn[22], line 8\u001b[0m, in \u001b[0;36mautocorrelation5\u001b[0;34m(a)\u001b[0m\n\u001b[1;32m      6\u001b[0m c_fourier \u001b[38;5;241m=\u001b[39m np\u001b[38;5;241m.\u001b[39mfft\u001b[38;5;241m.\u001b[39mifft(S)\n\u001b[1;32m      7\u001b[0m c_fourier \u001b[38;5;241m=\u001b[39m c_fourier[:(c_fourier\u001b[38;5;241m.\u001b[39msize\u001b[38;5;241m/\u001b[39m\u001b[38;5;241m/\u001b[39m\u001b[38;5;241m2\u001b[39m)\u001b[38;5;241m+\u001b[39m\u001b[38;5;241m1\u001b[39m]\n\u001b[0;32m----> 8\u001b[0m \u001b[38;5;28;01mreturn\u001b[39;00m np\u001b[38;5;241m.\u001b[39mreal(np\u001b[38;5;241m.\u001b[39mpi)[:\u001b[43mn\u001b[49m\u001b[38;5;241m/\u001b[39m\u001b[38;5;241m/\u001b[39m\u001b[38;5;241m2\u001b[39m]\u001b[38;5;241m/\u001b[39m(np\u001b[38;5;241m.\u001b[39marange(n\u001b[38;5;241m/\u001b[39m\u001b[38;5;241m/\u001b[39m\u001b[38;5;241m2\u001b[39m)[::\u001b[38;5;241m-\u001b[39m\u001b[38;5;241m1\u001b[39m]\u001b[38;5;241m+\u001b[39mn\u001b[38;5;241m/\u001b[39m\u001b[38;5;241m/\u001b[39m\u001b[38;5;241m2\u001b[39m)\n",
      "\u001b[0;31mNameError\u001b[0m: name 'n' is not defined"
     ]
    }
   ],
   "source": [
    "# acorr1 = autocorrelation1(df.pred_polar_x)\n",
    "# acorr2 = autocorrelation2(df.pred_polar_x)\n",
    "# print('Manual - pure python')\n",
    "# acorr3 = autocorrelation3(df.pred_polar_x)\n",
    "# print('Fast Fourie Transform Numpy')\n",
    "# accor4 = autocorrelation4(df.pred_polar_x)\n",
    "# print('Fast Fourie Transform Numpy 2')\n",
    "# accor5 = autocorrelation5(df.pred_polar_x)"
   ]
  },
  {
   "cell_type": "code",
   "execution_count": 70,
   "id": "504cd905-2b87-4981-a479-8d0f9d0cb4cd",
   "metadata": {},
   "outputs": [],
   "source": [
    "# Too long \n",
    "# Manual\n",
    "def autocorrelation3(x):\n",
    "    maxdelay = len(x)//5\n",
    "    N = len(x)\n",
    "    mean = np.mean(x)\n",
    "    var = np.var(x)\n",
    "    xp = (x - mean)/np.sqrt(var)\n",
    "    autocorrelation = np.zeros(maxdelay)\n",
    "    for r in tqdm(range(maxdelay)):\n",
    "        for k in range(N-r):\n",
    "            autocorrelation[r] += xp[k]*xp[k+r]\n",
    "        autocorrelation[r] /= float(N-r)\n",
    "    return autocorrelation"
   ]
  },
  {
   "cell_type": "code",
   "execution_count": null,
   "id": "702eb848-fc90-48fe-92c8-8f2c831d40bd",
   "metadata": {},
   "outputs": [],
   "source": [
    "# Too long\n",
    "# Fast Fourie Transform\n",
    "def autocorrelation4(x):\n",
    "    xp = ifftshift((x - np.average(x))/np.std(x))\n",
    "    n, = xp.shape\n",
    "    xp = np.r_[xp[:n//2], np.zeros_like(xp), xp[n//2:]]\n",
    "    f = fft(xp)\n",
    "    p = np.absolute(f)**2\n",
    "    pi = ifft(p)\n",
    "    return np.real(pi)[:n//2]/(np.arange(n//2)[::-1]+n//2)"
   ]
  },
  {
   "cell_type": "code",
   "execution_count": 22,
   "id": "6f396b77-86af-41a9-896f-f9867d419fc4",
   "metadata": {},
   "outputs": [],
   "source": [
    "# # Fast Fourie Transform 2\n",
    "# def autocorrelation5(a):\n",
    "#     a = np.concatenate((a,np.zeros(len(a)-1))) # added zeros to your signal\n",
    "#     A = np.fft.fft(a)\n",
    "#     S = np.conj(A)*A\n",
    "#     c_fourier = np.fft.ifft(S)\n",
    "#     c_fourier = c_fourier[:(c_fourier.size//2)+1]\n",
    "#     return np.real(np.pi)[:n//2]/(np.arange(n//2)[::-1]+n//2)"
   ]
  },
  {
   "cell_type": "code",
   "execution_count": 19,
   "id": "d5938f7a-ec85-48b9-9493-565603d1155c",
   "metadata": {},
   "outputs": [
    {
     "data": {
      "image/png": "[encoded data removed]",
      "text/plain": [
       "<Figure size 640x480 with 1 Axes>"
      ]
     },
     "metadata": {},
     "output_type": "display_data"
    },
    {
     "data": {
      "text/plain": [
       "<Figure size 3500x2000 with 0 Axes>"
      ]
     },
     "metadata": {},
     "output_type": "display_data"
    }
   ],
   "source": [
    "# Difference of different ways of autocorrelation\n",
    "size = len(acorr1)\n",
    "# size = 1000\n",
    "\n",
    "fig, ax = plt.subplots();\n",
    "# ax.scatter(x=time_steps[:size], y=acorr1[:size], c='g', s=1);\n",
    "# ax.scatter(x=time_steps[:size], y=acorr2[:size], c='r', s=1);\n",
    "# ax.scatter(x=time_steps[:1000], y=acorr3[:1000], c='b', s=1); # Too long\n",
    "# ax.scatter(x=time_steps[:1000], y=acorr4[:1000], c='o', s=5); # Too long\n",
    "# ax.scatter(x=time_steps[:1000], y=acorr5[:1000], c='o', s=5); #?\n",
    "plt.title(f\"Autocorrelation analysis of bond polarizability in {mol} molecule\");\n",
    "plt.ylabel('Autocorrelation');\n",
    "plt.xlabel('Timestep');\n",
    "plt.figure(figsize=(35,20));\n",
    "plt.show()"
   ]
  },
  {
   "cell_type": "code",
   "execution_count": null,
   "id": "45a40149-f5ee-4d53-b2e5-009993b050ce",
   "metadata": {},
   "outputs": [],
   "source": []
  },
  {
   "cell_type": "code",
   "execution_count": 30,
   "id": "a8deed27-a6ac-45eb-b476-0f946d1b028c",
   "metadata": {},
   "outputs": [
    {
     "data": {
      "text/html": [
       "<div>\n",
       "<style scoped>\n",
       "    .dataframe tbody tr th:only-of-type {\n",
       "        vertical-align: middle;\n",
       "    }\n",
       "\n",
       "    .dataframe tbody tr th {\n",
       "        vertical-align: top;\n",
       "    }\n",
       "\n",
       "    .dataframe thead th {\n",
       "        text-align: right;\n",
       "    }\n",
       "</style>\n",
       "<table border=\"1\" class=\"dataframe\">\n",
       "  <thead>\n",
       "    <tr style=\"text-align: right;\">\n",
       "      <th></th>\n",
       "      <th>wavenum</th>\n",
       "      <th>raman</th>\n",
       "    </tr>\n",
       "  </thead>\n",
       "  <tbody>\n",
       "    <tr>\n",
       "      <th>0</th>\n",
       "      <td>-11904.1670</td>\n",
       "      <td>5.292809e-28</td>\n",
       "    </tr>\n",
       "    <tr>\n",
       "      <th>1</th>\n",
       "      <td>-11902.9756</td>\n",
       "      <td>5.423524e-28</td>\n",
       "    </tr>\n",
       "    <tr>\n",
       "      <th>2</th>\n",
       "      <td>-11901.7861</td>\n",
       "      <td>5.577471e-28</td>\n",
       "    </tr>\n",
       "    <tr>\n",
       "      <th>3</th>\n",
       "      <td>-11900.5957</td>\n",
       "      <td>5.386533e-28</td>\n",
       "    </tr>\n",
       "    <tr>\n",
       "      <th>4</th>\n",
       "      <td>-11899.4043</td>\n",
       "      <td>5.465228e-28</td>\n",
       "    </tr>\n",
       "    <tr>\n",
       "      <th>...</th>\n",
       "      <td>...</td>\n",
       "      <td>...</td>\n",
       "    </tr>\n",
       "    <tr>\n",
       "      <th>19994</th>\n",
       "      <td>11899.4043</td>\n",
       "      <td>9.031858e-06</td>\n",
       "    </tr>\n",
       "    <tr>\n",
       "      <th>19995</th>\n",
       "      <td>11900.5957</td>\n",
       "      <td>8.945288e-06</td>\n",
       "    </tr>\n",
       "    <tr>\n",
       "      <th>19996</th>\n",
       "      <td>11901.7861</td>\n",
       "      <td>9.307576e-06</td>\n",
       "    </tr>\n",
       "    <tr>\n",
       "      <th>19997</th>\n",
       "      <td>11902.9756</td>\n",
       "      <td>9.094883e-06</td>\n",
       "    </tr>\n",
       "    <tr>\n",
       "      <th>19998</th>\n",
       "      <td>11904.1670</td>\n",
       "      <td>8.918999e-06</td>\n",
       "    </tr>\n",
       "  </tbody>\n",
       "</table>\n",
       "<p>19999 rows × 2 columns</p>\n",
       "</div>"
      ],
      "text/plain": [
       "          wavenum         raman\n",
       "0     -11904.1670  5.292809e-28\n",
       "1     -11902.9756  5.423524e-28\n",
       "2     -11901.7861  5.577471e-28\n",
       "3     -11900.5957  5.386533e-28\n",
       "4     -11899.4043  5.465228e-28\n",
       "...           ...           ...\n",
       "19994  11899.4043  9.031858e-06\n",
       "19995  11900.5957  8.945288e-06\n",
       "19996  11901.7861  9.307576e-06\n",
       "19997  11902.9756  9.094883e-06\n",
       "19998  11904.1670  8.918999e-06\n",
       "\n",
       "[19999 rows x 2 columns]"
      ]
     },
     "execution_count": 30,
     "metadata": {},
     "output_type": "execute_result"
    }
   ],
   "source": [
    "df_out = pd.read_table(f'raman_fortran.out', sep='\\s+', names=['wavenum','raman'])\n",
    "df_out"
   ]
  },
  {
   "cell_type": "code",
   "execution_count": null,
   "id": "a29172ae-52be-4a4d-8404-65873fd89200",
   "metadata": {},
   "outputs": [],
   "source": [
    "plt.figure();\n",
    "# plt.vlines(x=freqs[:size], ymin=0, ymax=raman_intensity[:size])\n",
    "plt.plot(freqs[:size], df_out.raman)\n",
    "plt.title(f\"Raman spectra of {mol} molecule\");\n",
    "plt.xlabel(\"Frequency (cm-1)\")\n",
    "plt.ylabel(\"Raman Intensity\")\n",
    "# plt.xlim([-2000, 2000])\n",
    "# plt.xlim([1000, 1500])\n",
    "plt.xlim([0, 1400])\n",
    "plt.grid()\n",
    "# plt.show()\n",
    "plt.savefig(f'{mol}_raman.png')"
   ]
  },
  {
   "cell_type": "code",
   "execution_count": null,
   "id": "eb96a611-4a1e-482a-b200-810aecd8ce4f",
   "metadata": {},
   "outputs": [],
   "source": []
  }
 ],
 "metadata": {
  "kernelspec": {
   "display_name": "Python 3 (ipykernel)",
   "language": "python",
   "name": "python3"
  },
  "language_info": {
   "codemirror_mode": {
    "name": "ipython",
    "version": 3
   },
   "file_extension": ".py",
   "mimetype": "text/x-python",
   "name": "python",
   "nbconvert_exporter": "python",
   "pygments_lexer": "ipython3",
   "version": "3.9.18"
  }
 },
 "nbformat": 4,
 "nbformat_minor": 5
}
