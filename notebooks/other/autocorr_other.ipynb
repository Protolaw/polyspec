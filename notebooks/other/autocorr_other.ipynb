{
 "cells": [
  {
   "cell_type": "code",
   "execution_count": null,
   "id": "ce42c742-7d82-4213-9929-2f145c6f40af",
   "metadata": {},
   "outputs": [],
   "source": [
    "fraction_autocorrelation_function_to_fft = 0.01"
   ]
  },
  {
   "cell_type": "code",
   "execution_count": null,
   "id": "90f7eeb8-d612-4fcc-bb28-43037ea552ce",
   "metadata": {},
   "outputs": [],
   "source": [
    "if len(time) % 2 == 0:\n",
    "    dipole_x_shifted = np.zeros(len(time)*2)\n",
    "    dipole_y_shifted = np.zeros(len(time)*2)\n",
    "    dipole_z_shifted = np.zeros(len(time)*2)\n",
    "else:\n",
    "    dipole_x_shifted = np.zeros(len(time)*2-1)\n",
    "    dipole_y_shifted = np.zeros(len(time)*2-1)\n",
    "    dipole_z_shifted = np.zeros(len(time)*2-1)\n",
    "dipole_x_shifted[len(time)//2:len(time)//2+len(time)] = df.pred_polar_x\n",
    "dipole_y_shifted[len(time)//2:len(time)//2+len(time)] = df.pred_polar_y\n",
    "dipole_z_shifted[len(time)//2:len(time)//2+len(time)] = df.pred_polar_z\n",
    "# Convolute the shifted array with the flipped array, which is equivalent to performing a correlation\n",
    "autocorr_x_full = (signal.fftconvolve(dipole_x_shifted,df.pred_polar_x[::-1], mode='same')[(-len(time)):]\n",
    "                   / np.arange(len(time), 0, -1))\n",
    "autocorr_y_full = (signal.fftconvolve(dipole_y_shifted,df.pred_polar_y[::-1], mode='same')[(-len(time)):]\n",
    "                   / np.arange(len(time), 0, -1))\n",
    "autocorr_z_full = (signal.fftconvolve(dipole_z_shifted,df.pred_polar_z[::-1], mode='same')[(-len(time)):]\n",
    "                   / np.arange(len(time), 0, -1))\n",
    "\n",
    "autocorr_full = autocorr_x_full + autocorr_y_full + autocorr_z_full\n",
    "# Truncate the autocorrelation array\n",
    "autocorr = autocorr_full[:int(len(time) * fraction_autocorrelation_function_to_fft)]"
   ]
  },
  {
   "cell_type": "code",
   "execution_count": null,
   "id": "39db22b6-f9f4-4b9e-9661-76bd5e1586ab",
   "metadata": {},
   "outputs": [],
   "source": []
  },
  {
   "cell_type": "code",
   "execution_count": 864,
   "id": "2a6d1112-031a-4a98-86df-d6326458bba8",
   "metadata": {},
   "outputs": [],
   "source": [
    "# accor1 = autocorr\n",
    "lineshape = fftpack.dct(acorr1, type=1)[1:]\n",
    "# lineshape_freq = np.linspace(0, 0.5/(timestep), len(acorr1))[1:]\n",
    "freqs = fftfreq(len(acorr1), d=timestep)[1:]\n",
    "lineshape_freq_wn = lineshape_freq / (100.* lightspeed) # converts to wavenumbers (cm^-1)\n",
    "\n",
    "spectra = lineshape * ((omega_in - lineshape_freq) ** 4) / lineshape_freq\n",
    "spectra_wm = spectra / (1. - np.exp(-(lineshape_freq * reduced_planck) / (kb * temp)))"
   ]
  },
  {
   "cell_type": "code",
   "execution_count": 865,
   "id": "332807df-3690-4442-a3d3-9ed927fee465",
   "metadata": {},
   "outputs": [
    {
     "data": {
      "text/plain": [
       "array([8.06534847e+81, 3.69285167e+81, 7.00700269e+80, ...,\n",
       "       1.44546042e+66, 4.12440823e+62, 1.44511964e+66])"
      ]
     },
     "execution_count": 865,
     "metadata": {},
     "output_type": "execute_result"
    }
   ],
   "source": [
    "spectra_wm"
   ]
  },
  {
   "cell_type": "code",
   "execution_count": 866,
   "id": "bd66a077-2d7e-4d66-8b6a-61895389e41b",
   "metadata": {},
   "outputs": [],
   "source": [
    "mask = (lineshape_frequencies_wn >= 0) & (lineshape_frequencies_wn <= zoom_wavenum)"
   ]
  },
  {
   "cell_type": "code",
   "execution_count": 867,
   "id": "cfc1350c-0bc3-45d9-90f4-719a984e269a",
   "metadata": {},
   "outputs": [
    {
     "data": {
      "text/plain": [
       "19999"
      ]
     },
     "execution_count": 867,
     "metadata": {},
     "output_type": "execute_result"
    }
   ],
   "source": [
    "len(spectra_wm)"
   ]
  },
  {
   "cell_type": "code",
   "execution_count": 762,
   "id": "1ca57af5-c091-4547-aa19-e4b876116473",
   "metadata": {},
   "outputs": [
    {
     "data": {
      "text/plain": [
       "array([1.25006250e+06, 2.50012501e+06, 3.75018751e+06, ...,\n",
       "       2.49974999e+10, 2.49987499e+10, 2.50000000e+10])"
      ]
     },
     "execution_count": 762,
     "metadata": {},
     "output_type": "execute_result"
    }
   ],
   "source": [
    "lineshape_freq"
   ]
  },
  {
   "cell_type": "code",
   "execution_count": 740,
   "id": "f496e001-f9a7-42cd-af29-b37a73dadfa7",
   "metadata": {},
   "outputs": [
    {
     "data": {
      "text/plain": [
       "array([1.        , 1.        , 1.        , ..., 0.99999987, 0.99999987,\n",
       "       0.99999987])"
      ]
     },
     "execution_count": 740,
     "metadata": {},
     "output_type": "execute_result"
    }
   ],
   "source": [
    "np.exp(-(lineshape_freq * reduced_planck) / (kb * temp))"
   ]
  },
  {
   "cell_type": "code",
   "execution_count": 810,
   "id": "7174ed80-a61f-4d60-af3c-85c760a8a944",
   "metadata": {},
   "outputs": [
    {
     "data": {
      "text/plain": [
       "array([ 0.05,  0.1 ,  0.15, ..., -0.15, -0.1 , -0.05])"
      ]
     },
     "execution_count": 810,
     "metadata": {},
     "output_type": "execute_result"
    }
   ],
   "source": [
    "freqs = fftfreq(len(correlation), d=timestep)[1:]\n",
    "freqs"
   ]
  },
  {
   "cell_type": "code",
   "execution_count": 563,
   "id": "daf303f2-75ea-48ef-afe6-8ac17de5e880",
   "metadata": {},
   "outputs": [],
   "source": []
  },
  {
   "cell_type": "code",
   "execution_count": 721,
   "id": "7a847f8f-c4c9-4fe6-bbf0-c06259545e3b",
   "metadata": {},
   "outputs": [
    {
     "data": {
      "text/plain": [
       "array([3.22613939e+82, 1.35404561e+82, 2.64708991e+81, ...,\n",
       "       5.78184166e+66, 1.64974890e+63, 5.78042814e+66])"
      ]
     },
     "execution_count": 721,
     "metadata": {},
     "output_type": "execute_result"
    }
   ],
   "source": [
    "spectra_wm"
   ]
  },
  {
   "cell_type": "code",
   "execution_count": 811,
   "id": "e866ce9c-cf3b-4bc8-90da-a09941e63835",
   "metadata": {},
   "outputs": [],
   "source": [
    "mask = freqs != 0\n",
    "raman_intensity = (np.ma.masked_array(\n",
    "    spectrum * np.exp(-1j * freqs * timesteps) * ((omega_in - freqs) ** 4),\n",
    "    mask=~mask\n",
    ") / freqs )/ (1 - np.exp(-(freqs * reduced_planck) / (kb * temp)))"
   ]
  },
  {
   "cell_type": "code",
   "execution_count": 813,
   "id": "6bc295f5-5fb6-4ee9-b064-357f9c5e1569",
   "metadata": {},
   "outputs": [],
   "source": [
    "max_freq_hz = 4000\n",
    "max_freq_index = int(max_freq_hz * timestep / 0.5)\n",
    "# spectra_wm = spectra_wm[:max_freq_index + 1]\n",
    "# lineshape_freq_wn = lineshape_freq_wn[:max_freq_index + 1]\n",
    "spectra_wm = spectra_wm / max(spectra_wm)"
   ]
  },
  {
   "cell_type": "code",
   "execution_count": 814,
   "id": "d5d69d9d-3a28-4902-9847-9a3cf1365ac8",
   "metadata": {},
   "outputs": [
    {
     "data": {
      "image/png": "[encoded data removed]",
      "text/plain": [
       "<Figure size 640x480 with 1 Axes>"
      ]
     },
     "metadata": {},
     "output_type": "display_data"
    }
   ],
   "source": [
    "plt.plot(lineshape_freq_wn, spectra_wm)\n",
    "plt.xlabel(\"Frequency (Hz)\")\n",
    "plt.ylabel(\"Raman Intensity\")\n",
    "plt.grid()\n",
    "plt.show()"
   ]
  },
  {
   "cell_type": "code",
   "execution_count": 862,
   "id": "0c963578-d703-4c84-91a3-477e5f43980a",
   "metadata": {},
   "outputs": [],
   "source": [
    "spectrum = fft(correlation)[1:]\n",
    "freqs = fftfreq(len(correlation), d=timestep)[1:]\n",
    "mask = freqs != 0\n",
    "raman_intensity = (np.ma.masked_array(\n",
    "    spectrum  * np.exp(-1j * freqs * timesteps) * ((omega_in - freqs) ** 4),\n",
    "    mask=~mask\n",
    ") / freqs )/ (1 - np.exp(-(freqs * reduced_planck) / (kb * temp)))"
   ]
  },
  {
   "cell_type": "code",
   "execution_count": 847,
   "id": "24e5ec30-dee3-4fba-9166-82d291055c00",
   "metadata": {},
   "outputs": [],
   "source": [
    "max_freq_wn = zoom_wavenum  # Adjust as needed\n",
    "max_freq_index = int(max_freq_hz * timestep / 0.5)\n",
    "# raman_intensity = raman_intensity[:max_freq_index + 1]\n",
    "# raman_intensity = raman_intensity[:20]\n",
    "# freqs = freqs[:20]\n",
    "# freqs = freqs[:max_freq_index + 1]\n",
    "raman_freqs_wn = freqs / (100. * lightspeed)"
   ]
  },
  {
   "cell_type": "code",
   "execution_count": 863,
   "id": "fd519661-8f07-4b0e-b1a4-def667ba468c",
   "metadata": {},
   "outputs": [
    {
     "data": {
      "text/plain": [
       "masked_array(data=[(6.565983822719774e+80-1.7881573739393777e+81j),\n",
       "                   (-2.031489069488575e+80-1.265215185256332e+79j),\n",
       "                   (-1.0394562242197358e+79+4.5434062282272854e+79j), ...,\n",
       "                   (-1.0394562242197358e+79-4.5434062282272854e+79j),\n",
       "                   (-2.1238294817380558e+80+1.3227249664043472e+79j),\n",
       "                   (6.018818504159792e+80+1.6391442594444295e+81j)],\n",
       "             mask=[False, False, False, ..., False, False, False],\n",
       "       fill_value=(1e+20+0j))"
      ]
     },
     "execution_count": 863,
     "metadata": {},
     "output_type": "execute_result"
    }
   ],
   "source": []
  },
  {
   "cell_type": "code",
   "execution_count": 848,
   "id": "20bf46a1-b0d4-4d25-9274-1233deedf072",
   "metadata": {},
   "outputs": [],
   "source": [
    "df = pd.DataFrame({'freqs': freqs, 'intensity': raman_intensity})"
   ]
  },
  {
   "cell_type": "code",
   "execution_count": 852,
   "id": "35d1ce2f-ceca-4c0d-bf85-6a9100967b8c",
   "metadata": {},
   "outputs": [
    {
     "name": "stderr",
     "output_type": "stream",
     "text": [
      "/home/sck/almaz/raman/env/lib64/python3.9/site-packages/matplotlib/cbook.py:1699: ComplexWarning: Casting complex values to real discards the imaginary part\n",
      "  return math.isfinite(val)\n",
      "/home/sck/almaz/raman/env/lib64/python3.9/site-packages/numpy/ma/core.py:2820: ComplexWarning: Casting complex values to real discards the imaginary part\n",
      "  _data = np.array(data, dtype=dtype, copy=copy,\n"
     ]
    },
    {
     "data": {
      "image/png": "[encoded data removed]",
      "text/plain": [
       "<Figure size 640x480 with 1 Axes>"
      ]
     },
     "metadata": {},
     "output_type": "display_data"
    }
   ],
   "source": [
    "# Plot or further process the Raman intensity\n",
    "# raman_intensity = spectra_wm / max(spectra_wm)\n",
    "plt.plot(freqs, raman_intensity)\n",
    "plt.xlabel(\"Frequency (Hz)\")\n",
    "plt.ylabel(\"Raman Intensity\")\n",
    "plt.grid()\n",
    "plt.show()"
   ]
  },
  {
   "cell_type": "code",
   "execution_count": 826,
   "id": "3b0a745c-8084-4c73-899f-1de22567bd05",
   "metadata": {},
   "outputs": [
    {
     "data": {
      "text/html": [
       "<div>\n",
       "<style scoped>\n",
       "    .dataframe tbody tr th:only-of-type {\n",
       "        vertical-align: middle;\n",
       "    }\n",
       "\n",
       "    .dataframe tbody tr th {\n",
       "        vertical-align: top;\n",
       "    }\n",
       "\n",
       "    .dataframe thead th {\n",
       "        text-align: right;\n",
       "    }\n",
       "</style>\n",
       "<table border=\"1\" class=\"dataframe\">\n",
       "  <thead>\n",
       "    <tr style=\"text-align: right;\">\n",
       "      <th></th>\n",
       "      <th>freqs</th>\n",
       "      <th>intensity</th>\n",
       "    </tr>\n",
       "  </thead>\n",
       "  <tbody>\n",
       "    <tr>\n",
       "      <th>0</th>\n",
       "      <td>0.05</td>\n",
       "      <td>6.565984e+80-1.788157e+                    81j</td>\n",
       "    </tr>\n",
       "    <tr>\n",
       "      <th>1</th>\n",
       "      <td>0.10</td>\n",
       "      <td>-2.031489e+80-1.265215e+                    79j</td>\n",
       "    </tr>\n",
       "    <tr>\n",
       "      <th>2</th>\n",
       "      <td>0.15</td>\n",
       "      <td>-1.039456e+79+4.543406e+                    79j</td>\n",
       "    </tr>\n",
       "    <tr>\n",
       "      <th>3</th>\n",
       "      <td>0.20</td>\n",
       "      <td>-5.049553e+78+1.496648e+                    79j</td>\n",
       "    </tr>\n",
       "    <tr>\n",
       "      <th>4</th>\n",
       "      <td>0.25</td>\n",
       "      <td>1.833148e+79+1.256132e+                    79j</td>\n",
       "    </tr>\n",
       "    <tr>\n",
       "      <th>...</th>\n",
       "      <td>...</td>\n",
       "      <td>...</td>\n",
       "    </tr>\n",
       "    <tr>\n",
       "      <th>19994</th>\n",
       "      <td>-0.25</td>\n",
       "      <td>1.801542e+79-1.234474e+                    79j</td>\n",
       "    </tr>\n",
       "    <tr>\n",
       "      <th>19995</th>\n",
       "      <td>-0.20</td>\n",
       "      <td>-5.049553e+78-1.496648e+                    79j</td>\n",
       "    </tr>\n",
       "    <tr>\n",
       "      <th>19996</th>\n",
       "      <td>-0.15</td>\n",
       "      <td>-1.039456e+79-4.543406e+                    79j</td>\n",
       "    </tr>\n",
       "    <tr>\n",
       "      <th>19997</th>\n",
       "      <td>-0.10</td>\n",
       "      <td>-2.123829e+80+1.322725e+                    79j</td>\n",
       "    </tr>\n",
       "    <tr>\n",
       "      <th>19998</th>\n",
       "      <td>-0.05</td>\n",
       "      <td>6.018819e+80+1.639144e+                    81j</td>\n",
       "    </tr>\n",
       "  </tbody>\n",
       "</table>\n",
       "<p>19999 rows × 2 columns</p>\n",
       "</div>"
      ],
      "text/plain": [
       "       freqs                                       intensity\n",
       "0       0.05  6.565984e+80-1.788157e+                    81j\n",
       "1       0.10 -2.031489e+80-1.265215e+                    79j\n",
       "2       0.15 -1.039456e+79+4.543406e+                    79j\n",
       "3       0.20 -5.049553e+78+1.496648e+                    79j\n",
       "4       0.25  1.833148e+79+1.256132e+                    79j\n",
       "...      ...                                             ...\n",
       "19994  -0.25  1.801542e+79-1.234474e+                    79j\n",
       "19995  -0.20 -5.049553e+78-1.496648e+                    79j\n",
       "19996  -0.15 -1.039456e+79-4.543406e+                    79j\n",
       "19997  -0.10 -2.123829e+80+1.322725e+                    79j\n",
       "19998  -0.05  6.018819e+80+1.639144e+                    81j\n",
       "\n",
       "[19999 rows x 2 columns]"
      ]
     },
     "execution_count": 826,
     "metadata": {},
     "output_type": "execute_result"
    }
   ],
   "source": [
    "df"
   ]
  },
  {
   "cell_type": "code",
   "execution_count": 669,
   "id": "4c4c7287-0447-4ac6-bba5-9e9c2d63f589",
   "metadata": {},
   "outputs": [
    {
     "data": {
      "text/plain": [
       "19999"
      ]
     },
     "execution_count": 669,
     "metadata": {},
     "output_type": "execute_result"
    }
   ],
   "source": [
    "len(raman_intensity)"
   ]
  },
  {
   "cell_type": "code",
   "execution_count": 364,
   "id": "abc666eb-b8a7-473f-ab7c-be2d5ced7c32",
   "metadata": {},
   "outputs": [
    {
     "data": {
      "text/plain": [
       "array([4.52826620e+04, 9.05653239e+04, 1.35847986e+05, ...,\n",
       "       9.05517391e+08, 9.05562674e+08, 9.05607957e+08])"
      ]
     },
     "execution_count": 364,
     "metadata": {},
     "output_type": "execute_result"
    }
   ],
   "source": [
    "lineshape_frequencies_wn"
   ]
  },
  {
   "cell_type": "code",
   "execution_count": 700,
   "id": "32dfefa1-03ec-42a2-9aa3-18c3d36f2674",
   "metadata": {},
   "outputs": [],
   "source": [
    "lineshape = fftpack.dct(acorr1, type=1)[1:]\n",
    "lineshape_frequencies = np.linspace(0, 0.5/timesteps, len(acorr1))[1:]\n",
    "\n",
    "\n",
    "max_freq_wn = zoom_wavenum\n",
    "max_freq_hz = max_freq_wn * 3.3356E-11 * 100 * lightspeed\n",
    "max_freq_index = int(max_freq_hz * timestep / 0.5)\n",
    "# lineshape_frequencies = np.linspace(0, 0.5/timestep, max_freq_index + 1)[1:]\n",
    "lineshape_frequencies_wn = lineshape_frequencies / (100.*lightspeed)"
   ]
  },
  {
   "cell_type": "code",
   "execution_count": 701,
   "id": "26de0a76-d60b-4be8-b7a5-c2a31b84bc60",
   "metadata": {},
   "outputs": [],
   "source": [
    "freqs = lineshape_frequencies_wn\n",
    "spectrum = lineshape"
   ]
  },
  {
   "cell_type": "code",
   "execution_count": 702,
   "id": "d2c72082-64a9-4f64-a0d9-65f474883084",
   "metadata": {},
   "outputs": [
    {
     "data": {
      "text/plain": [
       "6.283185307179586"
      ]
     },
     "execution_count": 702,
     "metadata": {},
     "output_type": "execute_result"
    }
   ],
   "source": [
    "omega_in"
   ]
  },
  {
   "cell_type": "code",
   "execution_count": 703,
   "id": "8d953c88-02a2-4fa7-9932-31095c224620",
   "metadata": {},
   "outputs": [],
   "source": [
    "# raman_intensity = (\n",
    "#     spectrum\n",
    "#     * np.exp(-1j * freqs * timesteps)\n",
    "#     * (omega_in - freqs) ** 4 \n",
    "#     / freqs \n",
    "#     / (1 - np.exp(-(freqs * reduced_planck)/(kb * temp)))\n",
    "# )\n",
    "mask = freqs != 0\n",
    "\n",
    "raman_intensity = np.ma.masked_array(\n",
    "    spectrum * np.exp(-1j * freqs * timesteps) * ((omega_in - freqs) ** 4),\n",
    "    mask=~mask\n",
    ") / freqs / (1 - np.exp(-(freqs * reduced_planck) / (kb * temp)))"
   ]
  },
  {
   "cell_type": "code",
   "execution_count": 465,
   "id": "b3add691-0f5b-4098-80bf-714d6e876931",
   "metadata": {},
   "outputs": [],
   "source": [
    "# mask = (lineshape_frequencies_wn >= 0) & (lineshape_frequencies_wn <= zoom_wavenum)"
   ]
  },
  {
   "cell_type": "code",
   "execution_count": 496,
   "id": "2a8b9220-f138-4e16-b044-561fa0b7f61a",
   "metadata": {},
   "outputs": [
    {
     "data": {
      "text/plain": [
       "masked_array(data=[--, --, --, ..., --, --, --],\n",
       "             mask=[ True,  True,  True, ...,  True,  True,  True],\n",
       "       fill_value=(1e+20+0j),\n",
       "            dtype=complex128)"
      ]
     },
     "execution_count": 496,
     "metadata": {},
     "output_type": "execute_result"
    }
   ],
   "source": [
    "raman_intensity"
   ]
  },
  {
   "cell_type": "code",
   "execution_count": 704,
   "id": "1ca57700-d5ac-4526-906a-d9bbf7f45588",
   "metadata": {},
   "outputs": [
    {
     "data": {
      "image/png": "[encoded data removed]",
      "text/plain": [
       "<Figure size 640x480 with 1 Axes>"
      ]
     },
     "metadata": {},
     "output_type": "display_data"
    }
   ],
   "source": [
    "# Plot or further process the Raman intensity\n",
    "plt.plot(lineshape_frequencies_wn, np.abs(raman_intensity))\n",
    "plt.title(f\"Raman spectra for {mol} molecule\");\n",
    "plt.xlabel(\"Frequency (cm-1)\")\n",
    "plt.ylabel(\"Raman Intensity\")\n",
    "# plt.gca().invert_xaxis()\n",
    "plt.grid()\n",
    "plt.show()"
   ]
  },
  {
   "cell_type": "code",
   "execution_count": 228,
   "id": "61763fd5-9ed6-4191-8ea2-e74595d976e8",
   "metadata": {},
   "outputs": [
    {
     "name": "stdout",
     "output_type": "stream",
     "text": [
      "19999\n"
     ]
    }
   ],
   "source": [
    "print(len(raman_intensity))"
   ]
  },
  {
   "cell_type": "code",
   "execution_count": 281,
   "id": "ab5111e1-db6f-4390-87bc-ee0f749cbe0a",
   "metadata": {},
   "outputs": [],
   "source": [
    "def slicer(data, slice_to=2):\n",
    "    return(data[: (len(data) // slice_to)])"
   ]
  },
  {
   "cell_type": "code",
   "execution_count": 282,
   "id": "434e2276-37ee-40db-af86-fa5b357563f5",
   "metadata": {},
   "outputs": [],
   "source": [
    "raman_intensity = slicer(raman_intensity)\n",
    "# freqs = slicer(freqs)\n",
    "l_freq_wn = slicer(lineshape_frequencies_wn)\n",
    "mask = slicer(mask)"
   ]
  },
  {
   "cell_type": "code",
   "execution_count": 279,
   "id": "03b0b763-d069-4f44-9c3a-1819c1ec7d62",
   "metadata": {},
   "outputs": [
    {
     "data": {
      "text/plain": [
       "masked_array(data=[--, --, --, ...,\n",
       "                   (1.7950018019483048e+75-5.592005581674535e+74j),\n",
       "                   (-4.472178696640513e+72+1.3933751301126135e+72j),\n",
       "                   (1.7938000965993732e+75-5.589450881565401e+74j)],\n",
       "             mask=[ True,  True,  True, ..., False, False, False],\n",
       "       fill_value=(1e+20+0j))"
      ]
     },
     "execution_count": 279,
     "metadata": {},
     "output_type": "execute_result"
    }
   ],
   "source": [
    "raman_intensity"
   ]
  },
  {
   "cell_type": "code",
   "execution_count": 552,
   "id": "5f4fe5a5-08ca-4eb2-84c1-5f4999988e37",
   "metadata": {},
   "outputs": [
    {
     "ename": "IndexError",
     "evalue": "boolean index did not match indexed array along dimension 0; dimension is 9999 but corresponding boolean dimension is 20000",
     "output_type": "error",
     "traceback": [
      "\u001b[0;31m---------------------------------------------------------------------------\u001b[0m",
      "\u001b[0;31mIndexError\u001b[0m                                Traceback (most recent call last)",
      "Cell \u001b[0;32mIn[552], line 1\u001b[0m\n\u001b[0;32m----> 1\u001b[0m plt\u001b[38;5;241m.\u001b[39mplot(\u001b[43ml_freq_wn\u001b[49m\u001b[43m[\u001b[49m\u001b[43mmask\u001b[49m\u001b[43m]\u001b[49m, np\u001b[38;5;241m.\u001b[39mabs(raman_intensity)[mask])\n\u001b[1;32m      2\u001b[0m plt\u001b[38;5;241m.\u001b[39mxlabel(\u001b[38;5;124m\"\u001b[39m\u001b[38;5;124mFrequency (Hz)\u001b[39m\u001b[38;5;124m\"\u001b[39m)\n\u001b[1;32m      3\u001b[0m plt\u001b[38;5;241m.\u001b[39mylabel(\u001b[38;5;124m\"\u001b[39m\u001b[38;5;124mRaman Intensity\u001b[39m\u001b[38;5;124m\"\u001b[39m)\n",
      "\u001b[0;31mIndexError\u001b[0m: boolean index did not match indexed array along dimension 0; dimension is 9999 but corresponding boolean dimension is 20000"
     ]
    }
   ],
   "source": [
    "plt.plot(l_freq_wn[mask], np.abs(raman_intensity)[mask])\n",
    "plt.xlabel(\"Frequency (Hz)\")\n",
    "plt.ylabel(\"Raman Intensity\")\n",
    "plt.show()"
   ]
  },
  {
   "cell_type": "code",
   "execution_count": null,
   "id": "9d23bd29-7e11-4423-ab0e-8cf686fdc065",
   "metadata": {},
   "outputs": [],
   "source": []
  },
  {
   "cell_type": "code",
   "execution_count": null,
   "id": "9b2df7a9-7c4b-4e73-b106-871e86b3ca2c",
   "metadata": {},
   "outputs": [],
   "source": []
  },
  {
   "cell_type": "code",
   "execution_count": null,
   "id": "5d5b207d-f464-4f1e-83b1-c3d9defe6150",
   "metadata": {},
   "outputs": [],
   "source": []
  }
 ],
 "metadata": {
  "kernelspec": {
   "display_name": "Python 3 (ipykernel)",
   "language": "python",
   "name": "python3"
  },
  "language_info": {
   "codemirror_mode": {
    "name": "ipython",
    "version": 3
   },
   "file_extension": ".py",
   "mimetype": "text/x-python",
   "name": "python",
   "nbconvert_exporter": "python",
   "pygments_lexer": "ipython3",
   "version": "3.9.18"
  }
 },
 "nbformat": 4,
 "nbformat_minor": 5
}
