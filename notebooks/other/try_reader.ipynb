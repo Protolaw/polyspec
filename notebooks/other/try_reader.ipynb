{
 "cells": [
  {
   "cell_type": "code",
   "execution_count": null,
   "id": "2024546c-65a8-4ef5-82b5-0a18831d18e7",
   "metadata": {},
   "outputs": [],
   "source": []
  },
  {
   "cell_type": "code",
   "execution_count": null,
   "id": "77ff05ad-c70f-4809-b984-e1b829d3313e",
   "metadata": {},
   "outputs": [],
   "source": [
    "def linal_sys_solver(df_equat):\n",
    "    coords = ['x', 'y', 'z']\n",
    "    answers_arr = df_equat[[f'm_polar_{i}' for i in coords]].to_numpy()  # Combine answers into array\n",
    "    total_coefs_arr = np.vstack([\n",
    "        np.hstack([\n",
    "            (1 - df_equat[f'g1_{i}']),\n",
    "            (1 - df_equat[f'g1_{i}']) * df_equat.dr1,\n",
    "            (1 - df_equat[f'g1_{i}']) * df_equat.dr1_2,\n",
    "            (1 - df_equat[f'g2_{i}']),\n",
    "            (1 - df_equat[f'g2_{i}']) * df_equat.dr2,\n",
    "            (1 - df_equat[f'g2_{i}']) * df_equat.dr2_2,\n",
    "            df_equat[f'g1_{i}'],\n",
    "            df_equat[f'g1_{i}'] * df_equat.dr1,\n",
    "            df_equat[f'g1_{i}'] * df_equat.dr1_2,\n",
    "            df_equat[f'g2_{i}'],\n",
    "            df_equat[f'g2_{i}'] * df_equat.dr2,\n",
    "            df_equat[f'g2_{i}'] * df_equat.dr2_2\n",
    "        ]) for i in coords\n",
    "    ])  # Create coefficients array using vectorized operations\n",
    "    # print(total_coefs_arr.shape)\n",
    "    # print(answers_arr.shape)\n",
    "    # multi_params = np.linalg.lstsq(total_coefs_arr, answers_arr, rcond=None)[0]  # Solve for multi_params efficiently\n",
    "    multi_params = None\n",
    "    try:\n",
    "        exact_params = np.linalg.solve(total_coefs_arr, answers_arr)  # Solve for exact_params\n",
    "    except np.linalg.LinAlgError:\n",
    "        exact_params = None\n",
    "    print(total_coefs_arr)\n",
    "    print(answers_arr.flatten().shape)\n",
    "    one_params = np.linalg.lstsq(total_coefs_arr, answers_arr.flatten(), rcond=None)[0]  # Solve for one_params\n",
    "    # one_params = None\n",
    "    return multi_params, exact_params, one_params, total_coefs_arr, answers_arr\n",
    "\n",
    "fin_param, fin_exact_params, one_params, np_coefs, all_ans = linal_sys_solver(df_equat)\n",
    "clmns= ['a0p', 'a1p', 'a2p', 'a0l', 'a1l', 'a2l']\n",
    "clmns_2 = ['a10p', 'a11p', 'a12p', 'a10l', 'a11l', 'a12l', 'a20p', 'a21p', 'a22p', 'a20l', 'a21l', 'a22l']\n",
    "df_param_ap = pd.DataFrame(fin_param, columns=clmns_2)\n",
    "df_param_ex = pd.DataFrame(fin_exact_params, columns=clmns_2)\n",
    "print(one_params)"
   ]
  }
 ],
 "metadata": {
  "kernelspec": {
   "display_name": "Python 3 (ipykernel)",
   "language": "python",
   "name": "python3"
  },
  "language_info": {
   "codemirror_mode": {
    "name": "ipython",
    "version": 3
   },
   "file_extension": ".py",
   "mimetype": "text/x-python",
   "name": "python",
   "nbconvert_exporter": "python",
   "pygments_lexer": "ipython3",
   "version": "3.9.18"
  }
 },
 "nbformat": 4,
 "nbformat_minor": 5
}
