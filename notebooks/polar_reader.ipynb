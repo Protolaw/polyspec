{
 "cells": [
  {
   "cell_type": "code",
<<<<<<< HEAD
   "execution_count": 9,
   "id": "7a1a0f93-b67b-447f-9e88-7f02b2991b52",
=======
   "execution_count": null,
   "id": "224af683-eb87-41f2-9326-44790dcce07f",
>>>>>>> main
   "metadata": {},
   "outputs": [],
   "source": [
    "import pandas as pd\n",
    "import numpy as np\n",
    "import os\n",
    "from tqdm import tqdm\n",
    "import matplotlib.pyplot as plt\n",
    "from sklearn.metrics import mean_squared_error, mean_absolute_error"
   ]
  },
  {
   "cell_type": "code",
<<<<<<< HEAD
   "execution_count": 3,
   "id": "63d20941-6afe-462d-9958-e1a1765613fe",
   "metadata": {},
   "outputs": [],
   "source": [
    "mol = \"H2S\"  # SO2 # H2S\n",
    "mol_path = f'../{mol}'\n",
    "files = os.listdir(mol_path)\n",
    "l = len(files)\n",
    "tables = '../tables'"
=======
   "execution_count": null,
   "id": "eb4dc26f-653d-4ce9-8cf7-1937c46d4733",
   "metadata": {},
   "outputs": [],
   "source": [
    "mol = \"CO2\"\n",
    "mol_path = f'./{mol}'\n",
    "files = os.listdir(mol_path)\n",
    "l = len(files)"
>>>>>>> main
   ]
  },
  {
   "cell_type": "code",
<<<<<<< HEAD
   "execution_count": 4,
   "id": "158755df-d89f-400b-82b8-e8115fcae38e",
   "metadata": {},
   "outputs": [
    {
     "data": {
      "text/plain": [
       "16556"
      ]
     },
     "execution_count": 4,
     "metadata": {},
     "output_type": "execute_result"
    }
   ],
   "source": [
    "l"
   ]
  },
  {
   "cell_type": "code",
   "execution_count": 5,
   "id": "9d76b81d-1c1f-4bf2-8de7-d3107e3df179",
=======
   "execution_count": null,
   "id": "e0942c3b-5341-4640-b2fa-b134b6126787",
>>>>>>> main
   "metadata": {},
   "outputs": [],
   "source": [
    "def parse_atom_coords(file_path):\n",
    "    with open(file_path, 'r') as file:\n",
    "        content = file.readlines()\n",
    "        file.close()\n",
    "    atomic_positions = []\n",
    "    start = False\n",
    "    for line in content:\n",
    "        if 'ATOMIC_POSITIONS' in line:\n",
    "            start = True\n",
    "        elif start and line.strip():  # Continue reading until a blank line is encountered\n",
    "            if 'K_POINTS' in line:\n",
    "                break\n",
    "            atomic_positions.append([float(coord) for coord in line.split()[1:]])\n",
    "\n",
    "    return np.array(atomic_positions)"
   ]
  },
  {
   "cell_type": "code",
<<<<<<< HEAD
   "execution_count": 6,
   "id": "0eac5dc5-7806-4fbd-b387-2d913bfad604",
=======
   "execution_count": null,
   "id": "f84e71e6-5bc4-4aaf-b9da-6e790b847e3e",
>>>>>>> main
   "metadata": {},
   "outputs": [],
   "source": [
    "scf_in = f'{mol_path}/dis_{1}/scf.in'\n",
    "def volume_calc(file_path):\n",
    "    with open(file_path, 'r') as file:\n",
    "        content = file.readlines()\n",
    "        file.close()\n",
    "    cell_units = []\n",
    "    start = False\n",
    "    for line in content:\n",
    "        if 'CELL_PARAMETERS' in line:\n",
    "            start = True\n",
    "        elif start and line.strip():  # Continue reading until a blank line is encountered\n",
    "            if 'ATOMIC_POSITIONS' in line:\n",
    "                break\n",
    "            cell_units.append([float(coord) for coord in line.split()])\n",
    "    cell_units = np.array(cell_units)\n",
    "    volume = round(np.linalg.det(cell_units), 7)\n",
    "    return volume"
   ]
  },
  {
   "cell_type": "code",
<<<<<<< HEAD
   "execution_count": 7,
   "id": "4b9430d0-90e6-43dc-848d-335c82d0d848",
=======
   "execution_count": null,
   "id": "48f1a261-c819-47f1-afac-3f403b408bde",
>>>>>>> main
   "metadata": {},
   "outputs": [],
   "source": [
    "# coord [x, y, z] is indexed as [0, 1, 2] respectively\n",
    "\n",
    "# Works only for SO2 and CO2\n",
    "def squared_projection(p1, p2):\n",
    "    squared_dist = np.sum((p1-p2)**2, axis=0)\n",
    "    projs = [(p1[i] - p2[i]) ** 2 / squared_dist for i in range(3)]\n",
    "    r = np.sqrt(squared_dist)\n",
    "    return [projs, r]"
   ]
  },
  {
   "cell_type": "code",
<<<<<<< HEAD
   "execution_count": 10,
   "id": "b916138e-752a-4d2c-8cea-0c1d5020b6bc",
   "metadata": {},
   "outputs": [
    {
     "name": "stderr",
     "output_type": "stream",
     "text": [
      "100%|████████████████████████████████████████████████████████████████████████████████████████| 16555/16555 [09:24<00:00, 29.33it/s]\n"
     ]
    }
   ],
=======
   "execution_count": null,
   "id": "3d8d5b68-d0aa-4333-b101-cb37a6cd11a5",
   "metadata": {},
   "outputs": [],
>>>>>>> main
   "source": [
    "# Main\n",
    "\n",
    "def diag_eps_reader(type, inn_path):\n",
    "    df = pd.read_table(f'{inn_path}/{type}', delimiter=\"\\s+\")\n",
    "    eps = df.iloc[0,1]\n",
    "    return eps\n",
    "\n",
    "def mod_polar_reader(type, inn_path):\n",
    "    df = pd.read_table(f'{inn_path}/{type}', delimiter=\"\\s+\")\n",
    "    mod_polar = (df.iloc[0,1] - 1) * volume\n",
    "    return mod_polar\n",
    "\n",
    "# Works only for system with two bonds\n",
    "std_file_path = f'{mol_path}/{mol}_0K.txt'\n",
    "if os.path.exists(std_file_path):\n",
    "    stan_coord = parse_atom_coords(file_path=std_file_path)\n",
    "    r1 = np.sqrt(np.sum((stan_coord[0]-stan_coord[1])**2, axis=0)) # Important to note that r1 and r2 are global variables\n",
    "    r2 = np.sqrt(np.sum((stan_coord[0]-stan_coord[2])**2, axis=0)) \n",
    "    volume = 1000\n",
    "    try:\n",
    "        volume = volume_calc(file_path=scf_in)\n",
    "    except:\n",
    "        pass\n",
    "else:\n",
    "    raise(\"Error: Standard file does not exists\")\n",
    "\n",
    "def collect_data():\n",
    "    equat_data = []\n",
<<<<<<< HEAD
    "    paths = [f'{mol_path}/dis_{i}' for i in range(l)]\n",
    "    existing_paths = [path for path in paths if os.path.exists(path)]\n",
    "    for path in tqdm(existing_paths):\n",
    "        dims = ['epsxx.dat', 'epsyy.dat', 'epszz.dat', 'scf.in']\n",
    "        if all(os.path.exists(os.path.join(path, dim)) for dim in dims):\n",
    "            polar_data = [mod_polar_reader(dim, path) for dim in dims[:3]]\n",
    "            atom_coords = parse_atom_coords(file_path=os.path.join(path, 'scf.in'))\n",
    "            g1, rg1 = squared_projection(atom_coords[0], atom_coords[1]) \n",
    "            g2, rg2 = squared_projection(atom_coords[0], atom_coords[2])\n",
=======
    "    for i in tqdm(range(l)):\n",
    "        inn_path = f'{mol_path}/dis_{i}'\n",
    "        dims = ['epsxx.dat', 'epsyy.dat', 'epszz.dat', 'scf.in']\n",
    "        if os.path.exists(inn_path) and all(os.path.exists(f'{inn_path}/{dim}') for dim in dims):\n",
    "            polar_data = []\n",
    "            for dim in dims[:3]:\n",
    "                polar = mod_polar_reader(dim, inn_path)\n",
    "                polar_data.append(polar)\n",
    "    \n",
    "            atom_coords = parse_atom_coords(file_path=f'{inn_path}/scf.in')\n",
    "            \n",
    "            # We define or squared relation as \"g\"   -- > Multoiple bond squared function\n",
    "            g1, rg1 = squared_projection(atom_coords[0], atom_coords[1]) \n",
    "            g2, rg2 = squared_projection(atom_coords[0], atom_coords[2])\n",
    "    \n",
>>>>>>> main
    "            dr1 = rg1 - r1\n",
    "            dr2 = rg2 - r2\n",
    "            equat_data.append([*polar_data, *g1, *g2, dr1, dr1**2, dr2, dr2**2])\n",
    "        else:\n",
    "            pass\n",
<<<<<<< HEAD
    "\n",
    "    clmns = ['m_polar_x', 'm_polar_y', 'm_polar_z',\\\n",
=======
    "    \n",
    "    clmns = ['polar_x', 'polar_y', 'polar_z',\\\n",
>>>>>>> main
    "             'g1_x', 'g1_y', 'g1_z',\\\n",
    "             'g2_x', 'g2_y', 'g2_z',\\\n",
    "             'dr1', 'dr1_2', 'dr2', 'dr2_2']\n",
    "    df_equat = pd.DataFrame(equat_data, columns=clmns)\n",
    "    return df_equat\n",
    "\n",
    "df_equat = collect_data()"
   ]
  },
  {
   "cell_type": "code",
<<<<<<< HEAD
   "execution_count": 51,
   "id": "7aab03db-8f4f-4372-bd3a-52961fd670e9",
   "metadata": {},
   "outputs": [
    {
     "data": {
      "text/html": [
       "<div>\n",
       "<style scoped>\n",
       "    .dataframe tbody tr th:only-of-type {\n",
       "        vertical-align: middle;\n",
       "    }\n",
       "\n",
       "    .dataframe tbody tr th {\n",
       "        vertical-align: top;\n",
       "    }\n",
       "\n",
       "    .dataframe thead th {\n",
       "        text-align: right;\n",
       "    }\n",
       "</style>\n",
       "<table border=\"1\" class=\"dataframe\">\n",
       "  <thead>\n",
       "    <tr style=\"text-align: right;\">\n",
       "      <th></th>\n",
       "      <th>m_polar_x</th>\n",
       "      <th>m_polar_y</th>\n",
       "      <th>m_polar_z</th>\n",
       "      <th>g1_x</th>\n",
       "      <th>g1_y</th>\n",
       "      <th>g1_z</th>\n",
       "      <th>g2_x</th>\n",
       "      <th>g2_y</th>\n",
       "      <th>g2_z</th>\n",
       "      <th>dr1</th>\n",
       "      <th>dr1_2</th>\n",
       "      <th>dr2</th>\n",
       "      <th>dr2_2</th>\n",
       "    </tr>\n",
       "  </thead>\n",
       "  <tbody>\n",
       "    <tr>\n",
       "      <th>16550</th>\n",
       "      <td>100.840</td>\n",
       "      <td>95.417</td>\n",
       "      <td>94.925</td>\n",
       "      <td>0.955844</td>\n",
       "      <td>0.043012</td>\n",
       "      <td>0.001144</td>\n",
       "      <td>0.007977</td>\n",
       "      <td>0.464662</td>\n",
       "      <td>0.527361</td>\n",
       "      <td>0.001359</td>\n",
       "      <td>0.000002</td>\n",
       "      <td>0.005387</td>\n",
       "      <td>0.000029</td>\n",
       "    </tr>\n",
       "    <tr>\n",
       "      <th>16551</th>\n",
       "      <td>100.884</td>\n",
       "      <td>94.731</td>\n",
       "      <td>95.562</td>\n",
       "      <td>0.957931</td>\n",
       "      <td>0.041288</td>\n",
       "      <td>0.000781</td>\n",
       "      <td>0.007054</td>\n",
       "      <td>0.424858</td>\n",
       "      <td>0.568088</td>\n",
       "      <td>0.001357</td>\n",
       "      <td>0.000002</td>\n",
       "      <td>0.005368</td>\n",
       "      <td>0.000029</td>\n",
       "    </tr>\n",
       "    <tr>\n",
       "      <th>16552</th>\n",
       "      <td>100.927</td>\n",
       "      <td>94.049</td>\n",
       "      <td>96.194</td>\n",
       "      <td>0.959972</td>\n",
       "      <td>0.039533</td>\n",
       "      <td>0.000496</td>\n",
       "      <td>0.006212</td>\n",
       "      <td>0.385408</td>\n",
       "      <td>0.608380</td>\n",
       "      <td>0.001334</td>\n",
       "      <td>0.000002</td>\n",
       "      <td>0.005358</td>\n",
       "      <td>0.000029</td>\n",
       "    </tr>\n",
       "    <tr>\n",
       "      <th>16553</th>\n",
       "      <td>100.968</td>\n",
       "      <td>93.375</td>\n",
       "      <td>96.817</td>\n",
       "      <td>0.961960</td>\n",
       "      <td>0.037758</td>\n",
       "      <td>0.000282</td>\n",
       "      <td>0.005448</td>\n",
       "      <td>0.346592</td>\n",
       "      <td>0.647960</td>\n",
       "      <td>0.001315</td>\n",
       "      <td>0.000002</td>\n",
       "      <td>0.005365</td>\n",
       "      <td>0.000029</td>\n",
       "    </tr>\n",
       "    <tr>\n",
       "      <th>16554</th>\n",
       "      <td>101.009</td>\n",
       "      <td>92.713</td>\n",
       "      <td>97.426</td>\n",
       "      <td>0.963892</td>\n",
       "      <td>0.035976</td>\n",
       "      <td>0.000132</td>\n",
       "      <td>0.004753</td>\n",
       "      <td>0.308691</td>\n",
       "      <td>0.686556</td>\n",
       "      <td>0.001298</td>\n",
       "      <td>0.000002</td>\n",
       "      <td>0.005378</td>\n",
       "      <td>0.000029</td>\n",
       "    </tr>\n",
       "  </tbody>\n",
       "</table>\n",
       "</div>"
      ],
      "text/plain": [
       "       m_polar_x  m_polar_y  m_polar_z      g1_x      g1_y      g1_z  \\\n",
       "16550    100.840     95.417     94.925  0.955844  0.043012  0.001144   \n",
       "16551    100.884     94.731     95.562  0.957931  0.041288  0.000781   \n",
       "16552    100.927     94.049     96.194  0.959972  0.039533  0.000496   \n",
       "16553    100.968     93.375     96.817  0.961960  0.037758  0.000282   \n",
       "16554    101.009     92.713     97.426  0.963892  0.035976  0.000132   \n",
       "\n",
       "           g2_x      g2_y      g2_z       dr1     dr1_2       dr2     dr2_2  \n",
       "16550  0.007977  0.464662  0.527361  0.001359  0.000002  0.005387  0.000029  \n",
       "16551  0.007054  0.424858  0.568088  0.001357  0.000002  0.005368  0.000029  \n",
       "16552  0.006212  0.385408  0.608380  0.001334  0.000002  0.005358  0.000029  \n",
       "16553  0.005448  0.346592  0.647960  0.001315  0.000002  0.005365  0.000029  \n",
       "16554  0.004753  0.308691  0.686556  0.001298  0.000002  0.005378  0.000029  "
      ]
     },
     "execution_count": 51,
     "metadata": {},
     "output_type": "execute_result"
    }
   ],
   "source": [
    "df_equat.tail()"
=======
   "execution_count": null,
   "id": "9a4b48aa-8b96-4183-9171-e4ffa1548222",
   "metadata": {},
   "outputs": [],
   "source": [
    "df_equat.head()"
>>>>>>> main
   ]
  },
  {
   "cell_type": "code",
<<<<<<< HEAD
   "execution_count": 18,
   "id": "b9d4dbea-0924-44fc-952e-42198522c462",
   "metadata": {},
   "outputs": [],
   "source": [
    "df_equat.to_csv(f'{mol_path}/equat_{mol}.csv', index=False)\n",
    "# df_equat.to_csv(f'{tables}/equat_{mol}.csv', index=False)"
=======
   "execution_count": null,
   "id": "7a9e5f0a-6a4b-40df-8f1d-f20c8d2f2239",
   "metadata": {},
   "outputs": [],
   "source": [
    "df_equat.to_csv(f'{mol_path}/equat_{mol}.csv', index=False)"
>>>>>>> main
   ]
  },
  {
   "cell_type": "code",
<<<<<<< HEAD
   "execution_count": 63,
   "id": "1072d2bc-4ea1-4eea-aa76-447252a61308",
   "metadata": {},
   "outputs": [],
   "source": [
    "# Add Anomality search\n",
=======
   "execution_count": null,
   "id": "aa19b4d0-4b2f-4deb-ad2d-374072d674e0",
   "metadata": {},
   "outputs": [],
   "source": [
    "# Add Abnoramlity search\n",
>>>>>>> main
    "\n",
    "def linal_sys_solve():\n",
    "    coords = ['x', 'y', 'z']\n",
    "\n",
    "    # In search of 1 global params\n",
    "    all_ans = []\n",
    "    total_coefs = []\n",
    "\n",
    "    fin_params = []\n",
    "    fin_exact_params = []\n",
<<<<<<< HEAD
    "    nb_quadr = int(np.ceil(df_equat.shape[0]/4)) ## Number of quadruples of equations to get the one system\n",
    "    print(nb_quadr)\n",
    "    for k in tqdm(range(nb_quadr)):\n",
    "        answers = []\n",
    "        all_coefs = []\n",
    "        for j in range(4*k, min(4 * k + 4, df_equat.shape[0])):\n",
    "            for i in coords:\n",
    "                answers.append(df_equat[f'm_polar_{i}'][j])\n",
=======
    "    for k in tqdm(range(df_equat.shape[0]//4)):\n",
    "        answers = []\n",
    "        all_coefs = []\n",
    "        for j in range(4*k, 4*k+4):\n",
    "            for i in coords:\n",
    "                answers.append(df_equat[f'polar_{i}'][j])\n",
>>>>>>> main
    "                coefs = [(1 - df_equat[f'g1_{i}'][j]), (1 - df_equat[f'g1_{i}'][j]) * df_equat.dr1[j],\\\n",
    "                           (1 - df_equat[f'g1_{i}'][j]) * df_equat.dr1_2[j], (1 - df_equat[f'g2_{i}'][j]),\\\n",
    "                           (1 - df_equat[f'g2_{i}'][j]) * df_equat.dr2[j], (1 - df_equat[f'g2_{i}'][j]) * df_equat.dr2_2[j],\\\n",
    "                      df_equat[f'g1_{i}'][j], df_equat[f'g1_{i}'][j]*df_equat.dr1[j], df_equat[f'g1_{i}'][j]*df_equat.dr1_2[j],\\\n",
    "                      df_equat[f'g2_{i}'][j], df_equat[f'g2_{i}'][j]*df_equat.dr2[j], df_equat[f'g2_{i}'][j]*df_equat.dr2_2[j]]\n",
    "                all_coefs.append(coefs)\n",
    "                \n",
    "                total_coefs.append(coefs)\n",
<<<<<<< HEAD
    "                all_ans.append(df_equat[f'm_polar_{i}'][j])\n",
=======
    "                all_ans.append(df_equat[f'polar_{i}'][j])\n",
>>>>>>> main
    "                \n",
    "        np_coefs = np.array(all_coefs)\n",
    "        multi_params = np.linalg.lstsq(np_coefs, answers, rcond=None)[0]\n",
    "        # param_list = multi_params[:(len(multi_params)//2)]\n",
    "        # fin_params.append(param_list)\n",
    "        fin_params.append(multi_params) # if not we don't want to repeate params\n",
    "\n",
    "        # Exact solutions\n",
    "        try:\n",
    "            exact_params = np.linalg.solve(np_coefs, answers)\n",
    "            fin_exact_params.append(exact_params)\n",
    "        except:\n",
    "            pass\n",
    "\n",
    "    one_params = np.linalg.lstsq(total_coefs, all_ans, rcond=None)[0] # Global params\n",
    "        \n",
    "    return fin_params, fin_exact_params, one_params, total_coefs, all_ans"
   ]
  },
  {
   "cell_type": "code",
<<<<<<< HEAD
   "execution_count": 64,
   "id": "d93cffef-4bee-4757-9d80-9a3f3b6b7ba9",
   "metadata": {},
   "outputs": [
    {
     "name": "stdout",
     "output_type": "stream",
     "text": [
      "4139\n"
     ]
    },
    {
     "name": "stderr",
     "output_type": "stream",
     "text": [
      "100%|█████████████████████████████████████████████████████████████████████████████████████████| 4139/4139 [00:09<00:00, 450.05it/s]"
     ]
    },
    {
     "name": "stdout",
     "output_type": "stream",
     "text": [
      "[ 4.50136307e+01 -1.23965580e+03  1.78849420e+05  4.42284500e+01\n",
      " -9.60839140e+02  1.52115690e+05  5.52426841e+01  2.67590995e+03\n",
      " -3.57588344e+05  5.60278519e+01  2.12765257e+03 -3.05507066e+05]\n"
     ]
    },
    {
     "name": "stderr",
     "output_type": "stream",
     "text": [
      "\n"
     ]
    }
   ],
=======
   "execution_count": null,
   "id": "469ac3fc-1083-473e-8b42-e9741d39d1c5",
   "metadata": {},
   "outputs": [],
   "source": []
  },
  {
   "cell_type": "code",
   "execution_count": null,
   "id": "42735ffc-fcfd-4fad-b777-24fedeef4833",
   "metadata": {},
   "outputs": [],
>>>>>>> main
   "source": [
    "fin_param, fin_exact_params, one_params, np_coefs, all_ans = linal_sys_solve()\n",
    "clmns= ['a0p', 'a1p', 'a2p', 'a0l', 'a1l', 'a2l']\n",
    "clmns_2 = ['a10p', 'a11p', 'a12p', 'a10l', 'a11l', 'a12l', 'a20p', 'a21p', 'a22p', 'a20l', 'a21l', 'a22l']\n",
    "df_param_ap = pd.DataFrame(fin_param, columns=clmns_2)\n",
    "df_param_ex = pd.DataFrame(fin_exact_params, columns=clmns_2)\n",
    "print(one_params)"
   ]
  },
  {
<<<<<<< HEAD
   "cell_type": "code",
   "execution_count": 69,
   "id": "d22ca310-5549-43d5-822d-38304aa5ec6c",
   "metadata": {},
   "outputs": [
    {
     "data": {
      "text/plain": [
       "[93.375,\n",
       " 96.81699999999994,\n",
       " 101.0089999999999,\n",
       " 92.71300000000004,\n",
       " 97.42600000000002]"
      ]
     },
     "execution_count": 69,
     "metadata": {},
     "output_type": "execute_result"
    }
   ],
   "source": [
    "all_ans[-5:]"
   ]
  },
  {
   "cell_type": "markdown",
   "id": "10c7cf3a-406d-4db7-ac89-6fc7b433c7f2",
=======
   "cell_type": "markdown",
   "id": "75338d74-8058-4b0c-aaf5-a597ea3de9fe",
>>>>>>> main
   "metadata": {},
   "source": [
    "#### If use linalg.solve, a10p and a20p is equal as other, so we can slice the param list\n",
    "\n",
    "#### df_param --> 6 columns ['a0p', 'a1p', 'a2p', 'a0l', 'a1l', 'a2l']\n",
    "\n",
    "#### df_param_2 --> 12 columns ['a10p', 'a11p', 'a12p', 'a10l', 'a11l', 'a12l', 'a20p', 'a21p', 'a22p', 'a20l', 'a21l', 'a22l']"
   ]
  },
  {
   "cell_type": "code",
<<<<<<< HEAD
   "execution_count": 19,
   "id": "8799719b-4ecd-4a9d-be6c-d4f864f7db33",
   "metadata": {},
   "outputs": [],
   "source": [
    "# mol ='SO2'\n",
    "# mol_path = f'./{mol}'\n",
=======
   "execution_count": null,
   "id": "f4ee0102-64dd-460f-ab87-486332b7892a",
   "metadata": {},
   "outputs": [],
   "source": []
  },
  {
   "cell_type": "code",
   "execution_count": null,
   "id": "395c52d1-e0a2-45d5-b39e-786115bc5eb0",
   "metadata": {},
   "outputs": [],
   "source": [
    "mol ='SO2'\n",
    "mol_path = f'./{mol}'\n",
>>>>>>> main
    "df_equat = pd.read_csv(f'{mol_path}/equat_{mol}.csv')"
   ]
  },
  {
   "cell_type": "code",
<<<<<<< HEAD
   "execution_count": 70,
   "id": "4e8a3f34-7ef2-40b3-b1cc-cf18083013fb",
   "metadata": {},
   "outputs": [],
   "source": [
    "divisor = 1000\n",
    "all_ans = np.array(all_ans)\n",
    "pred_polar = np.dot(np_coefs, one_params) / divisor\n",
    "pred_eps = pred_polar + 1\n",
    "dft_eps = all_ans / divisor + 1\n",
    "\n",
    "pred_polar_x = pred_polar[::3]\n",
    "pred_polar_y = pred_polar[1::3]\n",
    "pred_polar_z = pred_polar[2::3]"
   ]
  },
  {
   "cell_type": "code",
   "execution_count": 74,
   "id": "649e4df5-9fec-4e78-9fce-9c695f0fdbcd",
   "metadata": {},
   "outputs": [
    {
     "data": {
      "text/plain": [
       "array([0.10202686, 0.08936796, 0.09984714, ..., 0.10112587, 0.09236905,\n",
       "       0.09758598])"
      ]
     },
     "execution_count": 74,
     "metadata": {},
     "output_type": "execute_result"
    }
   ],
   "source": [
    "pred_polar"
   ]
  },
  {
   "cell_type": "code",
   "execution_count": 73,
   "id": "9fd1baaf-919c-4ff6-934d-dbab8ead06eb",
   "metadata": {},
   "outputs": [
    {
     "data": {
      "text/plain": [
       "(49665,)"
      ]
     },
     "execution_count": 73,
     "metadata": {},
     "output_type": "execute_result"
    }
   ],
   "source": [
    "dft_eps.shape"
   ]
  },
  {
   "cell_type": "code",
   "execution_count": 75,
   "id": "a8bf8aca-9d89-4153-961a-c1ef7e0f9d96",
   "metadata": {},
   "outputs": [
    {
     "data": {
      "text/plain": [
       "0        0.103463\n",
       "1        0.103521\n",
       "2        0.103568\n",
       "3        0.103605\n",
       "4        0.103638\n",
       "           ...   \n",
       "16550    0.100840\n",
       "16551    0.100884\n",
       "16552    0.100927\n",
       "16553    0.100968\n",
       "16554    0.101009\n",
       "Name: m_polar_x, Length: 16555, dtype: float64"
      ]
     },
     "execution_count": 75,
     "metadata": {},
     "output_type": "execute_result"
    }
   ],
   "source": [
    "df_equat= pd.read_csv(f'{mol_path}/equat_{mol}.csv')\n",
    "true_df_equat = df_equat.m_polar_x /1000\n",
    "true_df_equat"
   ]
  },
  {
   "cell_type": "code",
   "execution_count": 76,
   "id": "f7c65b6f-2138-486b-8ea3-e4e21a6472e1",
   "metadata": {},
   "outputs": [
    {
     "name": "stdout",
     "output_type": "stream",
     "text": [
      "49665\n",
      "16555 16555 16555\n"
     ]
    }
   ],
   "source": [
    "print(len(pred_polar))\n",
    "print(len(pred_polar_x), len(pred_polar_y), len(pred_polar_z))"
   ]
  },
  {
   "cell_type": "code",
   "execution_count": 81,
   "id": "457739c6-3feb-438e-ad0c-f3f7402b624e",
   "metadata": {},
   "outputs": [],
   "source": [
    "# pred_polar_xyz = {'pred_polar_x': pred_polar_x, 'pred_polar_y': pred_polar_y, 'pred_polar_z': pred_polar_z}\n",
    "# pred_polar_df = pd.DataFrame(pred_polar_xyz)\n",
    "# pred_polar_df.to_csv(f'{mol_path}/pred_polar_{mol}.csv', index=False)\n",
    "pred_polar_df.to_csv(f'{tables}/pred_polar_{mol}.csv', index=False)"
=======
   "execution_count": null,
   "id": "5d48679d-2e6f-4e37-afb2-25cd82074208",
   "metadata": {},
   "outputs": [],
   "source": [
    "pred_eps = []\n",
    "dft_eps = []\n",
    "pred_polar = []\n",
    "for i in range(len(np_coefs)):\n",
    "    a1=np.dot(np_coefs[i], one_params)\n",
    "    pred_polar.append(a1)\n",
    "    pred_eps.append((a1/1000) + 1)\n",
    "    dft_eps.append((all_ans[i]/1000) + 1)\n",
    "    \n",
    "pred_polar_x = pred_polar[::3]\n",
    "pred_polar_y = pred_polar[1::3]\n",
    "pred_polar_z = pred_polar[2::3]\n"
>>>>>>> main
   ]
  },
  {
   "cell_type": "code",
   "execution_count": null,
<<<<<<< HEAD
   "id": "4beeca9e-2ad4-4b1a-80d9-786e658486a4",
   "metadata": {},
   "outputs": [],
   "source": []
  },
  {
   "cell_type": "code",
   "execution_count": 29,
   "id": "9c084b11-5206-4053-a004-21ace4741d9f",
   "metadata": {},
   "outputs": [
    {
     "data": {
      "text/html": [
       "<div>\n",
       "<style scoped>\n",
       "    .dataframe tbody tr th:only-of-type {\n",
       "        vertical-align: middle;\n",
       "    }\n",
       "\n",
       "    .dataframe tbody tr th {\n",
       "        vertical-align: top;\n",
       "    }\n",
       "\n",
       "    .dataframe thead th {\n",
       "        text-align: right;\n",
       "    }\n",
       "</style>\n",
       "<table border=\"1\" class=\"dataframe\">\n",
       "  <thead>\n",
       "    <tr style=\"text-align: right;\">\n",
       "      <th></th>\n",
       "      <th>pred_polar_x</th>\n",
       "      <th>pred_polar_y</th>\n",
       "      <th>pred_polar_z</th>\n",
       "    </tr>\n",
       "  </thead>\n",
       "  <tbody>\n",
       "    <tr>\n",
       "      <th>0</th>\n",
       "      <td>0.102027</td>\n",
       "      <td>0.089368</td>\n",
       "      <td>0.099847</td>\n",
       "    </tr>\n",
       "    <tr>\n",
       "      <th>1</th>\n",
       "      <td>0.102133</td>\n",
       "      <td>0.088795</td>\n",
       "      <td>0.100356</td>\n",
       "    </tr>\n",
       "    <tr>\n",
       "      <th>2</th>\n",
       "      <td>0.102263</td>\n",
       "      <td>0.088286</td>\n",
       "      <td>0.100763</td>\n",
       "    </tr>\n",
       "    <tr>\n",
       "      <th>3</th>\n",
       "      <td>0.102344</td>\n",
       "      <td>0.087878</td>\n",
       "      <td>0.101087</td>\n",
       "    </tr>\n",
       "    <tr>\n",
       "      <th>4</th>\n",
       "      <td>0.102375</td>\n",
       "      <td>0.087482</td>\n",
       "      <td>0.101418</td>\n",
       "    </tr>\n",
       "    <tr>\n",
       "      <th>...</th>\n",
       "      <td>...</td>\n",
       "      <td>...</td>\n",
       "      <td>...</td>\n",
       "    </tr>\n",
       "    <tr>\n",
       "      <th>16547</th>\n",
       "      <td>0.101053</td>\n",
       "      <td>0.096690</td>\n",
       "      <td>0.093345</td>\n",
       "    </tr>\n",
       "    <tr>\n",
       "      <th>16548</th>\n",
       "      <td>0.101100</td>\n",
       "      <td>0.096060</td>\n",
       "      <td>0.093933</td>\n",
       "    </tr>\n",
       "    <tr>\n",
       "      <th>16549</th>\n",
       "      <td>0.101150</td>\n",
       "      <td>0.095423</td>\n",
       "      <td>0.094524</td>\n",
       "    </tr>\n",
       "    <tr>\n",
       "      <th>16550</th>\n",
       "      <td>0.101165</td>\n",
       "      <td>0.094795</td>\n",
       "      <td>0.095135</td>\n",
       "    </tr>\n",
       "    <tr>\n",
       "      <th>16551</th>\n",
       "      <td>0.101165</td>\n",
       "      <td>0.094170</td>\n",
       "      <td>0.095756</td>\n",
       "    </tr>\n",
       "  </tbody>\n",
       "</table>\n",
       "<p>16552 rows × 3 columns</p>\n",
       "</div>"
      ],
      "text/plain": [
       "       pred_polar_x  pred_polar_y  pred_polar_z\n",
       "0          0.102027      0.089368      0.099847\n",
       "1          0.102133      0.088795      0.100356\n",
       "2          0.102263      0.088286      0.100763\n",
       "3          0.102344      0.087878      0.101087\n",
       "4          0.102375      0.087482      0.101418\n",
       "...             ...           ...           ...\n",
       "16547      0.101053      0.096690      0.093345\n",
       "16548      0.101100      0.096060      0.093933\n",
       "16549      0.101150      0.095423      0.094524\n",
       "16550      0.101165      0.094795      0.095135\n",
       "16551      0.101165      0.094170      0.095756\n",
       "\n",
       "[16552 rows x 3 columns]"
      ]
     },
     "execution_count": 29,
     "metadata": {},
     "output_type": "execute_result"
    }
   ],
   "source": []
  },
  {
   "cell_type": "code",
   "execution_count": 80,
   "id": "e67bdf62-12e6-4c17-99c0-d0f6b14b65f2",
   "metadata": {},
   "outputs": [
    {
     "data": {
      "image/png": "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",
      "text/plain": [
       "<Figure size 640x480 with 1 Axes>"
      ]
     },
     "metadata": {},
     "output_type": "display_data"
    }
   ],
   "source": [
    "def cmp_polar_plot(x, y):\n",
    "    fig, ax = plt.subplots();\n",
    "    scatter = ax.scatter(x=x, y=y);\n",
    "    plt.title(f\"Comparison of DFT Results with\\n Predicted Bond Polarizability Using Our Model for {mol}\");\n",
    "    plt.ylabel('Our model polarizability');\n",
    "    plt.xlabel('DFT polarizability');\n",
    "    # plt.show()\n",
    "    plt.savefig(f'../images/{mol}_polar_compare.png')\n",
    "\n",
    "cmp_polar_plot(true_df_equat.values, pred_polar_df.pred_polar_x)"
   ]
  },
  {
   "cell_type": "code",
   "execution_count": 79,
   "id": "c1b3d604-5ae2-48dc-b587-688a92aed949",
   "metadata": {},
   "outputs": [
    {
     "name": "stdout",
     "output_type": "stream",
     "text": [
      "MSE:  1.0173468455885356e-06\n",
      "MAE:  0.0008620012302822031\n"
     ]
    }
   ],
   "source": [
    "print(\"MSE: \", mean_squared_error(true_df_equat.values, pred_polar_x))\n",
    "print(\"MAE: \", mean_absolute_error(true_df_equat.values, pred_polar_x))"
=======
   "id": "36fae103-27b0-4436-880a-b524885fa23b",
   "metadata": {},
   "outputs": [],
   "source": [
    "pred_polar_xyz = {'pred_polar_x': pred_polar_x, 'pred_polar_y': pred_polar_y, 'pred_polar_z': pred_polar_z}\n",
    "pred_polar_df = pd.DataFrame(pred_polar_xyz)\n",
    "pred_polar_df.to_csv(f'{mol_path}/pred_polar_{mol}.csv', index=False)"
   ]
  },
  {
   "cell_type": "code",
   "execution_count": null,
   "id": "1c5da419-832f-4f4e-8bf6-72ee6e610822",
   "metadata": {},
   "outputs": [],
   "source": [
    "def plot(pred_eps, dft_eps):\n",
    "    fig, ax = plt.subplots();\n",
    "    scatter = ax.scatter(x=dft_eps, y=pred_eps);\n",
    "    plt.title(f\"Comparison of DFT Results with Predicted Epsilon Using Our Model for {mol}\");\n",
    "    plt.ylabel('Our model epsilon');\n",
    "    plt.xlabel('DFT epsilon');\n",
    "    plt.figure(figsize=(25,10));\n",
    "    plt.show()\n",
    "\n",
    "plot(pred_eps, dft_eps)"
>>>>>>> main
   ]
  },
  {
   "cell_type": "code",
   "execution_count": null,
<<<<<<< HEAD
   "id": "f94bfdeb-ca4e-411e-946a-7eaa619279f5",
=======
   "id": "fa109290-f9dc-4330-8bd4-887bdbbbae63",
   "metadata": {},
   "outputs": [],
   "source": [
    "print(\"MSE: \", mean_squared_error(dft_eps, pred_eps))\n",
    "print(\"MAE: \", mean_absolute_error(dft_eps, pred_eps))"
   ]
  },
  {
   "cell_type": "code",
   "execution_count": null,
   "id": "83e399f0-2b36-4dcd-b6b4-98b13d1f2481",
   "metadata": {},
   "outputs": [],
   "source": [
    "df_param_ex.to_csv(f'{mol_path}/exact_param_{mol}.csv', index=False)\n",
    "df_param_ap.to_csv(f'{mol_path}/approx_param_{mol}.csv', index=False)"
   ]
  },
  {
   "cell_type": "code",
   "execution_count": null,
   "id": "6e297c99-9e2f-4b53-ae80-6dacdc851f10",
   "metadata": {},
   "outputs": [],
   "source": []
  },
  {
   "cell_type": "code",
   "execution_count": null,
   "id": "449d4e78-0daa-475d-ba4b-6f55a3ebadaa",
   "metadata": {},
   "outputs": [],
   "source": [
    "import seaborn as sns"
   ]
  },
  {
   "cell_type": "markdown",
   "id": "0ffa1c1d-8b72-424f-ad31-914f4fa5ac24",
   "metadata": {},
   "source": [
    "### For CO2"
   ]
  },
  {
   "cell_type": "code",
   "execution_count": null,
   "id": "01d1c67f-e388-4fab-ab97-4c36ec74d87a",
   "metadata": {},
   "outputs": [],
   "source": [
    "mol ='CO2'\n",
    "mol_path = f'./{mol}'\n",
    "df_param_ex = pd.read_csv(f'{mol_path}/exact_param_{mol}.csv')\n",
    "df_param_ap = pd.read_csv(f'{mol_path}/approx_param_{mol}.csv')"
   ]
  },
  {
   "cell_type": "code",
   "execution_count": null,
   "id": "d3791203-24d3-4682-85f8-638f2451d586",
   "metadata": {},
   "outputs": [],
   "source": [
    "sns.heatmap(df_param_ap.corr())"
   ]
  },
  {
   "cell_type": "code",
   "execution_count": null,
   "id": "f6fc24e9-a258-4964-8ca2-b72f3a028cd3",
   "metadata": {},
   "outputs": [],
   "source": [
    "sns.heatmap(df_param_ex.corr())"
   ]
  },
  {
   "cell_type": "markdown",
   "id": "8f722bc8-89ca-4983-8a99-cb371316adda",
   "metadata": {},
   "source": [
    "### For SO2"
   ]
  },
  {
   "cell_type": "code",
   "execution_count": null,
   "id": "334bd21a-09f9-4cb6-8479-d7d7fbe11a78",
   "metadata": {},
   "outputs": [],
   "source": [
    "mol ='SO2'\n",
    "mol_path = f'./{mol}'\n",
    "df_param_ex = pd.read_csv(f'{mol_path}/exact_param_{mol}.csv')\n",
    "df_param_ap = pd.read_csv(f'{mol_path}/approx_param_{mol}.csv')"
   ]
  },
  {
   "cell_type": "code",
   "execution_count": null,
   "id": "f5958d6f-91e0-484a-9920-14145a62dc7e",
   "metadata": {},
   "outputs": [],
   "source": [
    "sns.heatmap(df_param_ap.corr())"
   ]
  },
  {
   "cell_type": "code",
   "execution_count": null,
   "id": "a2cf1a5a-7793-4029-bad3-7f97f75a4439",
   "metadata": {},
   "outputs": [],
   "source": [
    "sns.heatmap(df_param_ex.corr())"
   ]
  },
  {
   "cell_type": "code",
   "execution_count": null,
   "id": "3a83b1ba-1421-429f-966f-32f9aaec1d24",
>>>>>>> main
   "metadata": {},
   "outputs": [],
   "source": []
  },
  {
   "cell_type": "markdown",
<<<<<<< HEAD
   "id": "efe81298-cd49-4f03-85c0-215931d4910b",
   "metadata": {},
   "source": [
    "#### We get the bond polarization parameters from 16555 structures of SO2 "
=======
   "id": "818e5937-d152-4552-8600-c8eff4350107",
   "metadata": {},
   "source": [
    "### Number of unique sets of polarization constants for molecules"
>>>>>>> main
   ]
  },
  {
   "cell_type": "code",
   "execution_count": null,
<<<<<<< HEAD
   "id": "b3ecf2cb-7246-4412-b28c-512075145e1e",
   "metadata": {},
   "outputs": [],
   "source": [
    "print(\"Predicted \\t\\t DFT\", mol)\n",
    "for i in range(50):\n",
    "    print(round(pred_eps[i], 6), '\\t', dft_eps[i])"
=======
   "id": "75619ce6-8f1b-4df8-9354-4a88f9139f25",
   "metadata": {},
   "outputs": [],
   "source": [
    "from sklearn.cluster import KMeans\n",
    "from sklearn.preprocessing import StandardScaler"
>>>>>>> main
   ]
  },
  {
   "cell_type": "code",
<<<<<<< HEAD
   "execution_count": 437,
   "id": "51a455b9-ea32-4401-8615-36320e8596d8",
   "metadata": {},
   "outputs": [
    {
     "name": "stdout",
     "output_type": "stream",
     "text": [
      "1906\n"
     ]
    }
   ],
   "source": [
    "# # Check anomality\n",
    "# for i in range(df_param_ex.shape[0]):\n",
    "#     if df_param_ex.a10p[i] - df_param_ex.a20p[i] < -92186044416:\n",
    "#         print(i)\n",
    "# df_param_ex.iloc[1906, :]"
=======
   "execution_count": null,
   "id": "f85e4a10-7f7b-4e4d-920c-a42917489077",
   "metadata": {},
   "outputs": [],
   "source": [
    "df_param_ex = pd.read_csv(f'{mol_path}/exact_param_{mol}.csv')\n",
    "mol"
>>>>>>> main
   ]
  },
  {
   "cell_type": "code",
<<<<<<< HEAD
   "execution_count": 162,
   "id": "f7f6fbdf-c628-4b01-8f3f-6fd5312b8073",
   "metadata": {},
   "outputs": [],
   "source": [
    "df_param_ex.to_csv(f'{mol_path}/exact_param_{mol}.csv', index=False)\n",
    "df_param_ex.to_csv(f'{tables}/exact_param_{mol}.csv', index=False)\n",
    "\n",
    "df_param_ap.to_csv(f'{mol_path}/approx_param_{mol}.csv', index=False)\n",
    "df_param_ap.to_csv(f'{tables}/approx_param_{mol}.csv', index=False)"
=======
   "execution_count": null,
   "id": "a32e6dfc-66ca-4a29-af19-9c866bf56c60",
   "metadata": {},
   "outputs": [],
   "source": [
    "# Similarity of sets (Correlation) For SO2\n",
    "\n",
    "# ex_data = df_param_ex\n",
    "scaler = StandardScaler()\n",
    "df_scaled = scaler.fit_transform(df_param_ex)\n",
    "\n",
    "distortions = []\n",
    "k_range = []  # You can adjust the range based on your specific dataset\n",
    "k = 1\n",
    "while True:\n",
    "# for k in k_range:\n",
    "    kmeans = KMeans(n_clusters=k, n_init=\"auto\")\n",
    "    kmeans.fit(df_scaled)\n",
    "    dist = kmeans.inertia_\n",
    "    distortions.append(dist)\n",
    "    k_range.append(k)\n",
    "    # print(k)\n",
    "    if k % 21 == 0:\n",
    "        print(k)\n",
    "        print(dist)\n",
    "    elif dist < 1:\n",
    "        print(dist)\n",
    "        print(k)\n",
    "        break\n",
    "    k += 20\n"
   ]
  },
  {
   "cell_type": "code",
   "execution_count": null,
   "id": "2d9a2b83-0f36-47bb-bc95-ee37f89412a9",
   "metadata": {},
   "outputs": [],
   "source": [
    "# Plot the elbow\n",
    "plt.plot(k_range, distortions, marker='o')\n",
    "plt.xlabel('Number of clusters')\n",
    "plt.ylabel('Distortion')\n",
    "plt.title('Elbow Method for Optimal k')\n",
    "plt.show()"
>>>>>>> main
   ]
  }
 ],
 "metadata": {
  "kernelspec": {
   "display_name": "Python 3 (ipykernel)",
   "language": "python",
   "name": "python3"
  },
  "language_info": {
   "codemirror_mode": {
    "name": "ipython",
    "version": 3
   },
   "file_extension": ".py",
   "mimetype": "text/x-python",
   "name": "python",
   "nbconvert_exporter": "python",
   "pygments_lexer": "ipython3",
<<<<<<< HEAD
   "version": "3.9.18"
=======
   "version": "3.8.10"
>>>>>>> main
  }
 },
 "nbformat": 4,
 "nbformat_minor": 5
}
