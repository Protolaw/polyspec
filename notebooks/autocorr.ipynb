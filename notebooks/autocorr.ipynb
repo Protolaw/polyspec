{
 "cells": [
  {
   "cell_type": "code",
   "execution_count": 1,
   "id": "38646790-2d4e-4543-8039-616e84c66d69",
   "metadata": {},
   "outputs": [],
   "source": [
    "import pandas as pd\n",
    "import numpy as np\n",
    "import os\n",
    "from tqdm import tqdm\n",
    "import matplotlib.pyplot as plt"
   ]
  },
  {
   "cell_type": "code",
   "execution_count": 5,
   "id": "6e6b2497-4347-445f-a19d-2db615309b7b",
   "metadata": {},
   "outputs": [],
   "source": [
    "mol = \"CO2\"\n",
    "mol_path = f'./{mol}'"
   ]
  },
  {
   "cell_type": "code",
   "execution_count": 480,
   "id": "1f5e64ce-bf20-4d2f-bab9-30c3480897a8",
   "metadata": {},
   "outputs": [],
   "source": [
    "df = pd.read_csv(f'{mol_path}/pred_polar_{mol}.csv')"
   ]
  },
  {
   "cell_type": "code",
   "execution_count": 481,
   "id": "5875e337-d75b-487c-b330-37f40d1015ad",
   "metadata": {},
   "outputs": [
    {
     "data": {
      "text/html": [
       "<div>\n",
       "<style scoped>\n",
       "    .dataframe tbody tr th:only-of-type {\n",
       "        vertical-align: middle;\n",
       "    }\n",
       "\n",
       "    .dataframe tbody tr th {\n",
       "        vertical-align: top;\n",
       "    }\n",
       "\n",
       "    .dataframe thead th {\n",
       "        text-align: right;\n",
       "    }\n",
       "</style>\n",
       "<table border=\"1\" class=\"dataframe\">\n",
       "  <thead>\n",
       "    <tr style=\"text-align: right;\">\n",
       "      <th></th>\n",
       "      <th>pred_polar_x</th>\n",
       "      <th>pred_polar_y</th>\n",
       "      <th>pred_polar_z</th>\n",
       "    </tr>\n",
       "  </thead>\n",
       "  <tbody>\n",
       "    <tr>\n",
       "      <th>0</th>\n",
       "      <td>41.918630</td>\n",
       "      <td>111.400366</td>\n",
       "      <td>57.707503</td>\n",
       "    </tr>\n",
       "    <tr>\n",
       "      <th>1</th>\n",
       "      <td>42.042905</td>\n",
       "      <td>111.826280</td>\n",
       "      <td>57.866598</td>\n",
       "    </tr>\n",
       "    <tr>\n",
       "      <th>2</th>\n",
       "      <td>42.165934</td>\n",
       "      <td>112.178349</td>\n",
       "      <td>58.002995</td>\n",
       "    </tr>\n",
       "    <tr>\n",
       "      <th>3</th>\n",
       "      <td>42.281674</td>\n",
       "      <td>112.406994</td>\n",
       "      <td>58.100659</td>\n",
       "    </tr>\n",
       "    <tr>\n",
       "      <th>4</th>\n",
       "      <td>42.386427</td>\n",
       "      <td>112.476271</td>\n",
       "      <td>58.147547</td>\n",
       "    </tr>\n",
       "    <tr>\n",
       "      <th>...</th>\n",
       "      <td>...</td>\n",
       "      <td>...</td>\n",
       "      <td>...</td>\n",
       "    </tr>\n",
       "    <tr>\n",
       "      <th>19995</th>\n",
       "      <td>42.995965</td>\n",
       "      <td>64.798139</td>\n",
       "      <td>104.026106</td>\n",
       "    </tr>\n",
       "    <tr>\n",
       "      <th>19996</th>\n",
       "      <td>43.096654</td>\n",
       "      <td>64.720553</td>\n",
       "      <td>103.500328</td>\n",
       "    </tr>\n",
       "    <tr>\n",
       "      <th>19997</th>\n",
       "      <td>43.214410</td>\n",
       "      <td>64.652565</td>\n",
       "      <td>103.001756</td>\n",
       "    </tr>\n",
       "    <tr>\n",
       "      <th>19998</th>\n",
       "      <td>43.357113</td>\n",
       "      <td>64.614183</td>\n",
       "      <td>102.565107</td>\n",
       "    </tr>\n",
       "    <tr>\n",
       "      <th>19999</th>\n",
       "      <td>43.530580</td>\n",
       "      <td>64.619790</td>\n",
       "      <td>102.213533</td>\n",
       "    </tr>\n",
       "  </tbody>\n",
       "</table>\n",
       "<p>20000 rows × 3 columns</p>\n",
       "</div>"
      ],
      "text/plain": [
       "       pred_polar_x  pred_polar_y  pred_polar_z\n",
       "0         41.918630    111.400366     57.707503\n",
       "1         42.042905    111.826280     57.866598\n",
       "2         42.165934    112.178349     58.002995\n",
       "3         42.281674    112.406994     58.100659\n",
       "4         42.386427    112.476271     58.147547\n",
       "...             ...           ...           ...\n",
       "19995     42.995965     64.798139    104.026106\n",
       "19996     43.096654     64.720553    103.500328\n",
       "19997     43.214410     64.652565    103.001756\n",
       "19998     43.357113     64.614183    102.565107\n",
       "19999     43.530580     64.619790    102.213533\n",
       "\n",
       "[20000 rows x 3 columns]"
      ]
     },
     "execution_count": 481,
     "metadata": {},
     "output_type": "execute_result"
    }
   ],
   "source": [
    "df"
   ]
  },
  {
   "cell_type": "code",
   "execution_count": 482,
   "id": "2329d225-0b25-4491-b1a1-640f80c5aa34",
   "metadata": {},
   "outputs": [],
   "source": [
    "# Numpy 1\n",
    "def autocorrelation1(data):\n",
    "    mean = np.mean(data)\n",
    "    var = np.var(data)\n",
    "    ndata = data - mean\n",
    "    acorr = np.correlate(ndata, ndata, 'full')[len(ndata)-1:] \n",
    "    acorr = acorr / var / len(ndata)\n",
    "    return acorr"
   ]
  },
  {
   "cell_type": "code",
   "execution_count": 558,
   "id": "a1dfabc0-d9a7-489a-9522-2ea2d49f81bc",
   "metadata": {},
   "outputs": [],
   "source": [
    "acorr1 = autocorrelation1(df.pred_polar_x)"
   ]
  },
  {
   "cell_type": "code",
   "execution_count": 705,
   "id": "fa11d734-db89-47ac-87ec-df5a2b9f5b8e",
   "metadata": {},
   "outputs": [],
   "source": [
    "timestep = 0.001\n",
    "time_steps = [round(timestep + timestep * i, 6) for i in range(len(acorr1))]"
   ]
  },
  {
   "cell_type": "code",
   "execution_count": 640,
   "id": "4c6a6c60-14da-4a06-a6d8-8eb75cf3a09b",
   "metadata": {},
   "outputs": [
    {
     "data": {
      "text/html": [
       "<div>\n",
       "<style scoped>\n",
       "    .dataframe tbody tr th:only-of-type {\n",
       "        vertical-align: middle;\n",
       "    }\n",
       "\n",
       "    .dataframe tbody tr th {\n",
       "        vertical-align: top;\n",
       "    }\n",
       "\n",
       "    .dataframe thead th {\n",
       "        text-align: right;\n",
       "    }\n",
       "</style>\n",
       "<table border=\"1\" class=\"dataframe\">\n",
       "  <thead>\n",
       "    <tr style=\"text-align: right;\">\n",
       "      <th></th>\n",
       "      <th>timestep</th>\n",
       "      <th>deriv</th>\n",
       "    </tr>\n",
       "  </thead>\n",
       "  <tbody>\n",
       "    <tr>\n",
       "      <th>0</th>\n",
       "      <td>0.001</td>\n",
       "      <td>1.000000</td>\n",
       "    </tr>\n",
       "    <tr>\n",
       "      <th>1</th>\n",
       "      <td>0.002</td>\n",
       "      <td>0.999802</td>\n",
       "    </tr>\n",
       "    <tr>\n",
       "      <th>2</th>\n",
       "      <td>0.003</td>\n",
       "      <td>0.999331</td>\n",
       "    </tr>\n",
       "    <tr>\n",
       "      <th>3</th>\n",
       "      <td>0.004</td>\n",
       "      <td>0.998599</td>\n",
       "    </tr>\n",
       "    <tr>\n",
       "      <th>4</th>\n",
       "      <td>0.005</td>\n",
       "      <td>0.997629</td>\n",
       "    </tr>\n",
       "    <tr>\n",
       "      <th>...</th>\n",
       "      <td>...</td>\n",
       "      <td>...</td>\n",
       "    </tr>\n",
       "    <tr>\n",
       "      <th>19995</th>\n",
       "      <td>19.996</td>\n",
       "      <td>0.000293</td>\n",
       "    </tr>\n",
       "    <tr>\n",
       "      <th>19996</th>\n",
       "      <td>19.997</td>\n",
       "      <td>0.000234</td>\n",
       "    </tr>\n",
       "    <tr>\n",
       "      <th>19997</th>\n",
       "      <td>19.998</td>\n",
       "      <td>0.000176</td>\n",
       "    </tr>\n",
       "    <tr>\n",
       "      <th>19998</th>\n",
       "      <td>19.999</td>\n",
       "      <td>0.000117</td>\n",
       "    </tr>\n",
       "    <tr>\n",
       "      <th>19999</th>\n",
       "      <td>20.000</td>\n",
       "      <td>0.000058</td>\n",
       "    </tr>\n",
       "  </tbody>\n",
       "</table>\n",
       "<p>20000 rows × 2 columns</p>\n",
       "</div>"
      ],
      "text/plain": [
       "       timestep     deriv\n",
       "0         0.001  1.000000\n",
       "1         0.002  0.999802\n",
       "2         0.003  0.999331\n",
       "3         0.004  0.998599\n",
       "4         0.005  0.997629\n",
       "...         ...       ...\n",
       "19995    19.996  0.000293\n",
       "19996    19.997  0.000234\n",
       "19997    19.998  0.000176\n",
       "19998    19.999  0.000117\n",
       "19999    20.000  0.000058\n",
       "\n",
       "[20000 rows x 2 columns]"
      ]
     },
     "execution_count": 640,
     "metadata": {},
     "output_type": "execute_result"
    }
   ],
   "source": [
    "df = pd.DataFrame({'timestep': time_steps, 'deriv': acorr1})\n",
    "df"
   ]
  },
  {
   "cell_type": "code",
   "execution_count": 805,
   "id": "9950176c-3da6-4178-b030-cb6c287e0ce2",
   "metadata": {},
   "outputs": [],
   "source": [
    "df.to_csv(f'CO2_deriv.csv', index=False)"
   ]
  },
  {
   "cell_type": "code",
   "execution_count": 2,
   "id": "ab4e72e7-dca7-431e-8b87-57b77d86be8e",
   "metadata": {},
   "outputs": [
    {
     "data": {
      "text/html": [
       "<div>\n",
       "<style scoped>\n",
       "    .dataframe tbody tr th:only-of-type {\n",
       "        vertical-align: middle;\n",
       "    }\n",
       "\n",
       "    .dataframe tbody tr th {\n",
       "        vertical-align: top;\n",
       "    }\n",
       "\n",
       "    .dataframe thead th {\n",
       "        text-align: right;\n",
       "    }\n",
       "</style>\n",
       "<table border=\"1\" class=\"dataframe\">\n",
       "  <thead>\n",
       "    <tr style=\"text-align: right;\">\n",
       "      <th></th>\n",
       "      <th>timestep</th>\n",
       "      <th>deriv</th>\n",
       "    </tr>\n",
       "  </thead>\n",
       "  <tbody>\n",
       "    <tr>\n",
       "      <th>0</th>\n",
       "      <td>0.001</td>\n",
       "      <td>1.000000</td>\n",
       "    </tr>\n",
       "    <tr>\n",
       "      <th>1</th>\n",
       "      <td>0.002</td>\n",
       "      <td>0.999802</td>\n",
       "    </tr>\n",
       "    <tr>\n",
       "      <th>2</th>\n",
       "      <td>0.003</td>\n",
       "      <td>0.999331</td>\n",
       "    </tr>\n",
       "    <tr>\n",
       "      <th>3</th>\n",
       "      <td>0.004</td>\n",
       "      <td>0.998599</td>\n",
       "    </tr>\n",
       "    <tr>\n",
       "      <th>4</th>\n",
       "      <td>0.005</td>\n",
       "      <td>0.997629</td>\n",
       "    </tr>\n",
       "    <tr>\n",
       "      <th>...</th>\n",
       "      <td>...</td>\n",
       "      <td>...</td>\n",
       "    </tr>\n",
       "    <tr>\n",
       "      <th>19995</th>\n",
       "      <td>19.996</td>\n",
       "      <td>0.000293</td>\n",
       "    </tr>\n",
       "    <tr>\n",
       "      <th>19996</th>\n",
       "      <td>19.997</td>\n",
       "      <td>0.000234</td>\n",
       "    </tr>\n",
       "    <tr>\n",
       "      <th>19997</th>\n",
       "      <td>19.998</td>\n",
       "      <td>0.000176</td>\n",
       "    </tr>\n",
       "    <tr>\n",
       "      <th>19998</th>\n",
       "      <td>19.999</td>\n",
       "      <td>0.000117</td>\n",
       "    </tr>\n",
       "    <tr>\n",
       "      <th>19999</th>\n",
       "      <td>20.000</td>\n",
       "      <td>0.000058</td>\n",
       "    </tr>\n",
       "  </tbody>\n",
       "</table>\n",
       "<p>20000 rows × 2 columns</p>\n",
       "</div>"
      ],
      "text/plain": [
       "       timestep     deriv\n",
       "0         0.001  1.000000\n",
       "1         0.002  0.999802\n",
       "2         0.003  0.999331\n",
       "3         0.004  0.998599\n",
       "4         0.005  0.997629\n",
       "...         ...       ...\n",
       "19995    19.996  0.000293\n",
       "19996    19.997  0.000234\n",
       "19997    19.998  0.000176\n",
       "19998    19.999  0.000117\n",
       "19999    20.000  0.000058\n",
       "\n",
       "[20000 rows x 2 columns]"
      ]
     },
     "execution_count": 2,
     "metadata": {},
     "output_type": "execute_result"
    }
   ],
   "source": [
    "df = pd.read_csv('CO2_deriv.csv')\n",
    "df"
   ]
  },
  {
   "cell_type": "markdown",
   "id": "1dfd5ff8-b668-48cb-ae4f-546dd8332914",
   "metadata": {},
   "source": [
    "#### IF we use all axis (not only X-axis)"
   ]
  },
  {
   "cell_type": "code",
   "execution_count": 582,
   "id": "1cb2a446-08d3-4ebb-bee8-4964491712c5",
   "metadata": {},
   "outputs": [],
   "source": [
    "fraction_autocorrelation_function_to_fft = 0.01"
   ]
  },
  {
   "cell_type": "code",
   "execution_count": 583,
   "id": "02974f81-2a18-4e9b-a1de-66c1e89e0fdb",
   "metadata": {},
   "outputs": [],
   "source": [
    "if len(time) % 2 == 0:\n",
    "    dipole_x_shifted = np.zeros(len(time)*2)\n",
    "    dipole_y_shifted = np.zeros(len(time)*2)\n",
    "    dipole_z_shifted = np.zeros(len(time)*2)\n",
    "else:\n",
    "    dipole_x_shifted = np.zeros(len(time)*2-1)\n",
    "    dipole_y_shifted = np.zeros(len(time)*2-1)\n",
    "    dipole_z_shifted = np.zeros(len(time)*2-1)\n",
    "dipole_x_shifted[len(time)//2:len(time)//2+len(time)] = df.pred_polar_x\n",
    "dipole_y_shifted[len(time)//2:len(time)//2+len(time)] = df.pred_polar_y\n",
    "dipole_z_shifted[len(time)//2:len(time)//2+len(time)] = df.pred_polar_z\n",
    "# Convolute the shifted array with the flipped array, which is equivalent to performing a correlation\n",
    "autocorr_x_full = (signal.fftconvolve(dipole_x_shifted,df.pred_polar_x[::-1], mode='same')[(-len(time)):]\n",
    "                   / np.arange(len(time), 0, -1))\n",
    "autocorr_y_full = (signal.fftconvolve(dipole_y_shifted,df.pred_polar_y[::-1], mode='same')[(-len(time)):]\n",
    "                   / np.arange(len(time), 0, -1))\n",
    "autocorr_z_full = (signal.fftconvolve(dipole_z_shifted,df.pred_polar_z[::-1], mode='same')[(-len(time)):]\n",
    "                   / np.arange(len(time), 0, -1))\n",
    "\n",
    "autocorr_full = autocorr_x_full + autocorr_y_full + autocorr_z_full\n",
    "# Truncate the autocorrelation array\n",
    "autocorr = autocorr_full[:int(len(time) * fraction_autocorrelation_function_to_fft)]"
   ]
  },
  {
   "cell_type": "code",
   "execution_count": null,
   "id": "479b43d7-c627-4802-9962-6ba8ca8c8442",
   "metadata": {},
   "outputs": [],
   "source": [
    "autocorr"
   ]
  },
  {
   "cell_type": "code",
   "execution_count": 586,
   "id": "dd0f7ee2-6e25-4eb5-84e4-620d662f3bbd",
   "metadata": {},
   "outputs": [
    {
     "data": {
      "image/png": "[encoded data removed]",
      "text/plain": [
       "<Figure size 640x480 with 1 Axes>"
      ]
     },
     "metadata": {},
     "output_type": "display_data"
    },
    {
     "data": {
      "text/plain": [
       "<Figure size 3500x2000 with 0 Axes>"
      ]
     },
     "metadata": {},
     "output_type": "display_data"
    }
   ],
   "source": []
  },
  {
   "cell_type": "code",
   "execution_count": 711,
   "id": "681cf87b-4bee-4135-bc7a-643668d38407",
   "metadata": {},
   "outputs": [
    {
     "data": {
      "image/png": "[encoded data removed]",
      "text/plain": [
       "<Figure size 640x480 with 1 Axes>"
      ]
     },
     "metadata": {},
     "output_type": "display_data"
    },
    {
     "data": {
      "text/plain": [
       "<Figure size 3500x2000 with 0 Axes>"
      ]
     },
     "metadata": {},
     "output_type": "display_data"
    }
   ],
   "source": [
    "fig, ax = plt.subplots();\n",
    "scatter = ax.scatter(x=time_steps, y=acorr1, s=0.5);\n",
    "# scatter = ax.scatter(x=time_steps, y=autocorr, s=0.5); ### For all axis polarization\n",
    "plt.title(f\"Autocorrelation analysis of bond polarizability in {mol} molecule\");\n",
    "plt.ylabel('Autocorrelation');\n",
    "plt.xlabel('Timestep');\n",
    "plt.figure(figsize=(35,20));\n",
    "plt.show()"
   ]
  },
  {
   "cell_type": "code",
   "execution_count": 8,
   "id": "29ff5e12-6201-46d3-a083-300bc374d9ea",
   "metadata": {},
   "outputs": [
    {
     "data": {
      "image/png": "[encoded data removed]",
      "text/plain": [
       "<Figure size 720x720 with 1 Axes>"
      ]
     },
     "metadata": {
      "needs_background": "light"
     },
     "output_type": "display_data"
    }
   ],
   "source": [
    "fig, ax = plt.subplots(figsize=(10,10));\n",
    "scatter = ax.scatter(x=df.timestep, y=df.deriv, s=0.5);\n",
    "# scatter = ax.scatter(x=time_steps, y=autocorr, s=0.5); ### For all axis polarization\n",
    "plt.title(f\"Autocorrelation analysis of bond polarizability in {mol} molecule\");\n",
    "plt.ylabel('Autocorrelation');\n",
    "plt.xlabel('Timestep');\n",
    "# plt.figure(figsize=(35,20));\n",
    "plt.show()"
   ]
  },
  {
   "cell_type": "code",
   "execution_count": 680,
   "id": "487d3578-bd0b-4353-aa19-2c4e2269442c",
   "metadata": {},
   "outputs": [],
   "source": []
  },
  {
   "cell_type": "code",
   "execution_count": 74,
   "id": "2dd6b0f7-a41f-41be-9e94-b0484e483da8",
   "metadata": {},
   "outputs": [],
   "source": [
    "import math\n",
    "# Global varibales\n",
    "\n",
    "temp = 300\n",
    "# Constant\n",
    "kb = 1.38064852E-23\n",
    "reduced_planck = 1.05457180013E-34\n",
    "lightspeed = 299792458\n",
    "a = 3.3356E-11\n",
    "# omega_in = 2.9979e15 * a / (100 * lightspeed)\n",
    "zoom_wavenum = 4000  # cm^-1\n",
    "\n",
    "wavelen = 532E-9\n",
    "omega_in = 2 * math.pi * lightspeed / wavelen\n",
    "timestep = 0.001"
   ]
  },
  {
   "cell_type": "code",
   "execution_count": 75,
   "id": "25e2e60e-c99c-4f4d-9ceb-b1722df09bcd",
   "metadata": {},
   "outputs": [
    {
     "data": {
      "text/plain": [
       "1        0.999802\n",
       "2        0.999331\n",
       "3        0.998599\n",
       "4        0.997629\n",
       "5        0.996445\n",
       "           ...   \n",
       "19995    0.000293\n",
       "19996    0.000234\n",
       "19997    0.000176\n",
       "19998    0.000117\n",
       "19999    0.000058\n",
       "Name: deriv, Length: 19999, dtype: float64"
      ]
     },
     "execution_count": 75,
     "metadata": {},
     "output_type": "execute_result"
    }
   ],
   "source": [
    "df.deriv[1:]"
   ]
  },
  {
   "cell_type": "code",
   "execution_count": 76,
   "id": "60647dbc-c2ca-42e1-b702-37e905551884",
   "metadata": {},
   "outputs": [],
   "source": [
    "from scipy.fftpack import fft, fftfreq\n",
    "\n",
    "size = df.shape[0]\n",
    "time_array = np.arange(0, timestep * (size - 1), timestep)\n",
    "\n",
    "EXP_TERM = np.exp(-(omega_in * reduced_planck) / (kb * temp))\n",
    "\n",
    "fft_autocorrelation = fft(df.deriv.values)[1:]\n",
    "# fft_autocorrelation = np.fft.fft(df.deriv)[1:]\n",
    "\n",
    "# Calculate frequency array for FFT output\n",
    "\n",
    "# freqs = np.fft.fftfreq(size, d=timestep)[1:]\n",
    "freqs = fftfreq(size, d=timestep)[1:]\n",
    "\n",
    "# Apply scaling for FFT normalization\n",
    "fft_autocorrelation = fft_autocorrelation / size\n",
    "\n",
    "# Calculate Raman intensity using FFT results\n",
    "raman_intensity = (\n",
    "    (omega_in - freqs) ** 4\n",
    "    / freqs\n",
    "    / (1 - EXP_TERM)\n",
    "    * fft_autocorrelation.real  # Extract real part\n",
    ")"
   ]
  },
  {
   "cell_type": "code",
   "execution_count": 77,
   "id": "1eaf8bc2-37dc-4716-bd15-248b3d04d14b",
   "metadata": {},
   "outputs": [
    {
     "data": {
      "image/png": "[encoded data removed]",
      "text/plain": [
       "<Figure size 720x720 with 1 Axes>"
      ]
     },
     "metadata": {
      "needs_background": "light"
     },
     "output_type": "display_data"
    }
   ],
   "source": [
    "# plt.plot(lineshape_freq[:500], spectra_wm[:500])\n",
    "# plt.plot(lineshape_freq[:20], spectra_wm[:20])\n",
    "\n",
    "\n",
    "raman_intensity = raman_intensity/ max(raman_intensity)\n",
    "plt.figure(figsize=(10,10));\n",
    "plt.plot(freqs, raman_intensity)\n",
    "plt.xlabel(\"Frequency (Hz)\")\n",
    "plt.ylabel(\"Raman Intensity\")\n",
    "plt.xlim([0, 10])\n",
    "# plt.ylim([-0.5e62, 1.5e62])\n",
    "plt.grid()\n",
    "plt.show()"
   ]
  },
  {
   "cell_type": "code",
   "execution_count": 66,
   "id": "4f6c545b-b6af-4d7a-91dd-07d1a8ad665a",
   "metadata": {},
   "outputs": [
    {
     "data": {
      "text/plain": [
       "array([ 0.05,  0.1 ,  0.15, ..., -0.15, -0.1 , -0.05])"
      ]
     },
     "execution_count": 66,
     "metadata": {},
     "output_type": "execute_result"
    }
   ],
   "source": [
    "freqs"
   ]
  },
  {
   "cell_type": "code",
   "execution_count": 487,
   "id": "5989ab6b-04bb-4276-8687-3b226beadd50",
   "metadata": {},
   "outputs": [],
   "source": [
    "from scipy import fftpack\n",
    "from scipy.fftpack import fft, fftfreq"
   ]
  },
  {
   "cell_type": "code",
   "execution_count": 716,
   "id": "d6e86c71-89e0-497e-8dba-ba6eecf0a0a3",
   "metadata": {},
   "outputs": [
    {
     "data": {
      "text/plain": [
       "3.540698434791077"
      ]
     },
     "execution_count": 716,
     "metadata": {},
     "output_type": "execute_result"
    }
   ],
   "source": [
    "omega_in/1E15"
   ]
  },
  {
   "cell_type": "code",
   "execution_count": 864,
   "id": "3ece6637-843c-4dec-9dc9-c56071d69a4e",
   "metadata": {},
   "outputs": [],
   "source": [
    "# accor1 = autocorr\n",
    "lineshape = fftpack.dct(acorr1, type=1)[1:]\n",
    "# lineshape_freq = np.linspace(0, 0.5/(timestep), len(acorr1))[1:]\n",
    "freqs = fftfreq(len(acorr1), d=timestep)[1:]\n",
    "lineshape_freq_wn = lineshape_freq / (100.* lightspeed) # converts to wavenumbers (cm^-1)\n",
    "\n",
    "spectra = lineshape * ((omega_in - lineshape_freq) ** 4) / lineshape_freq\n",
    "spectra_wm = spectra / (1. - np.exp(-(lineshape_freq * reduced_planck) / (kb * temp)))"
   ]
  },
  {
   "cell_type": "code",
   "execution_count": 865,
   "id": "b605e7d9-ca1e-412c-91fd-d4ec19dce107",
   "metadata": {},
   "outputs": [
    {
     "data": {
      "text/plain": [
       "array([8.06534847e+81, 3.69285167e+81, 7.00700269e+80, ...,\n",
       "       1.44546042e+66, 4.12440823e+62, 1.44511964e+66])"
      ]
     },
     "execution_count": 865,
     "metadata": {},
     "output_type": "execute_result"
    }
   ],
   "source": [
    "spectra_wm"
   ]
  },
  {
   "cell_type": "code",
   "execution_count": 866,
   "id": "f5bb9803-2d43-4224-b7da-856cf1cbb036",
   "metadata": {},
   "outputs": [],
   "source": [
    "mask = (lineshape_frequencies_wn >= 0) & (lineshape_frequencies_wn <= zoom_wavenum)"
   ]
  },
  {
   "cell_type": "code",
   "execution_count": 867,
   "id": "e273a1fb-c863-4f6c-bfaf-5621fd2f91ce",
   "metadata": {},
   "outputs": [
    {
     "data": {
      "text/plain": [
       "19999"
      ]
     },
     "execution_count": 867,
     "metadata": {},
     "output_type": "execute_result"
    }
   ],
   "source": [
    "len(spectra_wm)"
   ]
  },
  {
   "cell_type": "code",
   "execution_count": 45,
   "id": "7197aaa4-76ff-4a24-95dd-c1a574bcb6a4",
   "metadata": {},
   "outputs": [
    {
     "data": {
      "image/png": "[encoded data removed]",
      "text/plain": [
       "<Figure size 720x720 with 1 Axes>"
      ]
     },
     "metadata": {
      "needs_background": "light"
     },
     "output_type": "display_data"
    }
   ],
   "source": [
    "# plt.plot(lineshape_freq[:500], spectra_wm[:500])\n",
    "# plt.plot(lineshape_freq[:20], spectra_wm[:20])\n",
    "plt.figure(figsize=(10,10));\n",
    "plt.plot(freqs, raman_intensity)\n",
    "plt.xlabel(\"Frequency (Hz)\")\n",
    "plt.ylabel(\"Raman Intensity\")\n",
    "plt.xlim([0, 3])\n",
    "plt.ylim([-0.5e62, 1.5e62])\n",
    "plt.grid()\n",
    "plt.show()"
   ]
  },
  {
   "cell_type": "code",
   "execution_count": 46,
   "id": "0acff35a-5ead-49e0-8d72-9770e66d8c56",
   "metadata": {},
   "outputs": [
    {
     "data": {
      "text/plain": [
       "array([ 1.12833783e+62,  1.10332196e+61,  3.45576124e+58, ...,\n",
       "       -3.45576124e+58, -1.10332196e+61, -1.12833783e+62])"
      ]
     },
     "execution_count": 46,
     "metadata": {},
     "output_type": "execute_result"
    }
   ],
   "source": [
    "raman_intensity"
   ]
  },
  {
   "cell_type": "code",
   "execution_count": 762,
   "id": "02658f54-5608-4efc-a70f-5e23ebb5df89",
   "metadata": {},
   "outputs": [
    {
     "data": {
      "text/plain": [
       "array([1.25006250e+06, 2.50012501e+06, 3.75018751e+06, ...,\n",
       "       2.49974999e+10, 2.49987499e+10, 2.50000000e+10])"
      ]
     },
     "execution_count": 762,
     "metadata": {},
     "output_type": "execute_result"
    }
   ],
   "source": [
    "lineshape_freq"
   ]
  },
  {
   "cell_type": "code",
   "execution_count": 740,
   "id": "2fbf8955-b912-4f02-8ebd-86c17fe37648",
   "metadata": {},
   "outputs": [
    {
     "data": {
      "text/plain": [
       "array([1.        , 1.        , 1.        , ..., 0.99999987, 0.99999987,\n",
       "       0.99999987])"
      ]
     },
     "execution_count": 740,
     "metadata": {},
     "output_type": "execute_result"
    }
   ],
   "source": [
    "np.exp(-(lineshape_freq * reduced_planck) / (kb * temp))"
   ]
  },
  {
   "cell_type": "code",
   "execution_count": 810,
   "id": "6fc57812-087b-498a-aeb2-2a93ae6a720a",
   "metadata": {},
   "outputs": [
    {
     "data": {
      "text/plain": [
       "array([ 0.05,  0.1 ,  0.15, ..., -0.15, -0.1 , -0.05])"
      ]
     },
     "execution_count": 810,
     "metadata": {},
     "output_type": "execute_result"
    }
   ],
   "source": [
    "freqs = fftfreq(len(correlation), d=timestep)[1:]\n",
    "freqs"
   ]
  },
  {
   "cell_type": "code",
   "execution_count": 563,
   "id": "0cc05033-19ce-4c81-aaa3-7e2ee3b177a4",
   "metadata": {},
   "outputs": [],
   "source": []
  },
  {
   "cell_type": "code",
   "execution_count": 721,
   "id": "a94989cd-01a7-4844-8394-52cde216d85f",
   "metadata": {},
   "outputs": [
    {
     "data": {
      "text/plain": [
       "array([3.22613939e+82, 1.35404561e+82, 2.64708991e+81, ...,\n",
       "       5.78184166e+66, 1.64974890e+63, 5.78042814e+66])"
      ]
     },
     "execution_count": 721,
     "metadata": {},
     "output_type": "execute_result"
    }
   ],
   "source": [
    "spectra_wm"
   ]
  },
  {
   "cell_type": "code",
   "execution_count": 811,
   "id": "91ce855e-7be2-46db-a918-b998f846845c",
   "metadata": {},
   "outputs": [],
   "source": [
    "mask = freqs != 0\n",
    "raman_intensity = (np.ma.masked_array(\n",
    "    spectrum * np.exp(-1j * freqs * timesteps) * ((omega_in - freqs) ** 4),\n",
    "    mask=~mask\n",
    ") / freqs )/ (1 - np.exp(-(freqs * reduced_planck) / (kb * temp)))"
   ]
  },
  {
   "cell_type": "code",
   "execution_count": 813,
   "id": "802cb378-bf0b-4235-8246-9800597addbf",
   "metadata": {},
   "outputs": [],
   "source": [
    "max_freq_hz = 4000\n",
    "max_freq_index = int(max_freq_hz * timestep / 0.5)\n",
    "# spectra_wm = spectra_wm[:max_freq_index + 1]\n",
    "# lineshape_freq_wn = lineshape_freq_wn[:max_freq_index + 1]\n",
    "spectra_wm = spectra_wm / max(spectra_wm)"
   ]
  },
  {
   "cell_type": "code",
   "execution_count": 814,
   "id": "57d833c3-58e1-47f5-895e-d3f6544e5227",
   "metadata": {},
   "outputs": [
    {
     "data": {
      "image/png": "[encoded data removed]",
      "text/plain": [
       "<Figure size 640x480 with 1 Axes>"
      ]
     },
     "metadata": {},
     "output_type": "display_data"
    }
   ],
   "source": [
    "plt.plot(lineshape_freq_wn, spectra_wm)\n",
    "plt.xlabel(\"Frequency (Hz)\")\n",
    "plt.ylabel(\"Raman Intensity\")\n",
    "plt.grid()\n",
    "plt.show()"
   ]
  },
  {
   "cell_type": "code",
   "execution_count": 862,
   "id": "3cadc177-c205-4c1b-b45c-9156d4ef0cf9",
   "metadata": {},
   "outputs": [],
   "source": [
    "spectrum = fft(correlation)[1:]\n",
    "freqs = fftfreq(len(correlation), d=timestep)[1:]\n",
    "mask = freqs != 0\n",
    "raman_intensity = (np.ma.masked_array(\n",
    "    spectrum  * np.exp(-1j * freqs * timesteps) * ((omega_in - freqs) ** 4),\n",
    "    mask=~mask\n",
    ") / freqs )/ (1 - np.exp(-(freqs * reduced_planck) / (kb * temp)))"
   ]
  },
  {
   "cell_type": "code",
   "execution_count": 847,
   "id": "8df89a2b-ee11-4736-8c6f-ad4cee52e060",
   "metadata": {},
   "outputs": [],
   "source": [
    "max_freq_wn = zoom_wavenum  # Adjust as needed\n",
    "max_freq_index = int(max_freq_hz * timestep / 0.5)\n",
    "# raman_intensity = raman_intensity[:max_freq_index + 1]\n",
    "# raman_intensity = raman_intensity[:20]\n",
    "# freqs = freqs[:20]\n",
    "# freqs = freqs[:max_freq_index + 1]\n",
    "raman_freqs_wn = freqs / (100. * lightspeed)"
   ]
  },
  {
   "cell_type": "code",
   "execution_count": 863,
   "id": "c7d91724-463f-4593-8f15-a246eef49254",
   "metadata": {},
   "outputs": [
    {
     "data": {
      "text/plain": [
       "masked_array(data=[(6.565983822719774e+80-1.7881573739393777e+81j),\n",
       "                   (-2.031489069488575e+80-1.265215185256332e+79j),\n",
       "                   (-1.0394562242197358e+79+4.5434062282272854e+79j), ...,\n",
       "                   (-1.0394562242197358e+79-4.5434062282272854e+79j),\n",
       "                   (-2.1238294817380558e+80+1.3227249664043472e+79j),\n",
       "                   (6.018818504159792e+80+1.6391442594444295e+81j)],\n",
       "             mask=[False, False, False, ..., False, False, False],\n",
       "       fill_value=(1e+20+0j))"
      ]
     },
     "execution_count": 863,
     "metadata": {},
     "output_type": "execute_result"
    }
   ],
   "source": []
  },
  {
   "cell_type": "code",
   "execution_count": 848,
   "id": "acdbd422-c974-46c8-977b-9edbbb5f2522",
   "metadata": {},
   "outputs": [],
   "source": [
    "df = pd.DataFrame({'freqs': freqs, 'intensity': raman_intensity})"
   ]
  },
  {
   "cell_type": "code",
   "execution_count": 852,
   "id": "70c804f3-71ab-40a5-971e-450dc6f4f888",
   "metadata": {},
   "outputs": [
    {
     "name": "stderr",
     "output_type": "stream",
     "text": [
      "/home/sck/almaz/raman/env/lib64/python3.9/site-packages/matplotlib/cbook.py:1699: ComplexWarning: Casting complex values to real discards the imaginary part\n",
      "  return math.isfinite(val)\n",
      "/home/sck/almaz/raman/env/lib64/python3.9/site-packages/numpy/ma/core.py:2820: ComplexWarning: Casting complex values to real discards the imaginary part\n",
      "  _data = np.array(data, dtype=dtype, copy=copy,\n"
     ]
    },
    {
     "data": {
      "image/png": "[encoded data removed]",
      "text/plain": [
       "<Figure size 640x480 with 1 Axes>"
      ]
     },
     "metadata": {},
     "output_type": "display_data"
    }
   ],
   "source": [
    "# Plot or further process the Raman intensity\n",
    "# raman_intensity = spectra_wm / max(spectra_wm)\n",
    "plt.plot(freqs, raman_intensity)\n",
    "plt.xlabel(\"Frequency (Hz)\")\n",
    "plt.ylabel(\"Raman Intensity\")\n",
    "plt.grid()\n",
    "plt.show()"
   ]
  },
  {
   "cell_type": "code",
   "execution_count": 826,
   "id": "ac023bfb-a71a-468d-8cf9-6ccbbcabafb9",
   "metadata": {},
   "outputs": [
    {
     "data": {
      "text/html": [
       "<div>\n",
       "<style scoped>\n",
       "    .dataframe tbody tr th:only-of-type {\n",
       "        vertical-align: middle;\n",
       "    }\n",
       "\n",
       "    .dataframe tbody tr th {\n",
       "        vertical-align: top;\n",
       "    }\n",
       "\n",
       "    .dataframe thead th {\n",
       "        text-align: right;\n",
       "    }\n",
       "</style>\n",
       "<table border=\"1\" class=\"dataframe\">\n",
       "  <thead>\n",
       "    <tr style=\"text-align: right;\">\n",
       "      <th></th>\n",
       "      <th>freqs</th>\n",
       "      <th>intensity</th>\n",
       "    </tr>\n",
       "  </thead>\n",
       "  <tbody>\n",
       "    <tr>\n",
       "      <th>0</th>\n",
       "      <td>0.05</td>\n",
       "      <td>6.565984e+80-1.788157e+                    81j</td>\n",
       "    </tr>\n",
       "    <tr>\n",
       "      <th>1</th>\n",
       "      <td>0.10</td>\n",
       "      <td>-2.031489e+80-1.265215e+                    79j</td>\n",
       "    </tr>\n",
       "    <tr>\n",
       "      <th>2</th>\n",
       "      <td>0.15</td>\n",
       "      <td>-1.039456e+79+4.543406e+                    79j</td>\n",
       "    </tr>\n",
       "    <tr>\n",
       "      <th>3</th>\n",
       "      <td>0.20</td>\n",
       "      <td>-5.049553e+78+1.496648e+                    79j</td>\n",
       "    </tr>\n",
       "    <tr>\n",
       "      <th>4</th>\n",
       "      <td>0.25</td>\n",
       "      <td>1.833148e+79+1.256132e+                    79j</td>\n",
       "    </tr>\n",
       "    <tr>\n",
       "      <th>...</th>\n",
       "      <td>...</td>\n",
       "      <td>...</td>\n",
       "    </tr>\n",
       "    <tr>\n",
       "      <th>19994</th>\n",
       "      <td>-0.25</td>\n",
       "      <td>1.801542e+79-1.234474e+                    79j</td>\n",
       "    </tr>\n",
       "    <tr>\n",
       "      <th>19995</th>\n",
       "      <td>-0.20</td>\n",
       "      <td>-5.049553e+78-1.496648e+                    79j</td>\n",
       "    </tr>\n",
       "    <tr>\n",
       "      <th>19996</th>\n",
       "      <td>-0.15</td>\n",
       "      <td>-1.039456e+79-4.543406e+                    79j</td>\n",
       "    </tr>\n",
       "    <tr>\n",
       "      <th>19997</th>\n",
       "      <td>-0.10</td>\n",
       "      <td>-2.123829e+80+1.322725e+                    79j</td>\n",
       "    </tr>\n",
       "    <tr>\n",
       "      <th>19998</th>\n",
       "      <td>-0.05</td>\n",
       "      <td>6.018819e+80+1.639144e+                    81j</td>\n",
       "    </tr>\n",
       "  </tbody>\n",
       "</table>\n",
       "<p>19999 rows × 2 columns</p>\n",
       "</div>"
      ],
      "text/plain": [
       "       freqs                                       intensity\n",
       "0       0.05  6.565984e+80-1.788157e+                    81j\n",
       "1       0.10 -2.031489e+80-1.265215e+                    79j\n",
       "2       0.15 -1.039456e+79+4.543406e+                    79j\n",
       "3       0.20 -5.049553e+78+1.496648e+                    79j\n",
       "4       0.25  1.833148e+79+1.256132e+                    79j\n",
       "...      ...                                             ...\n",
       "19994  -0.25  1.801542e+79-1.234474e+                    79j\n",
       "19995  -0.20 -5.049553e+78-1.496648e+                    79j\n",
       "19996  -0.15 -1.039456e+79-4.543406e+                    79j\n",
       "19997  -0.10 -2.123829e+80+1.322725e+                    79j\n",
       "19998  -0.05  6.018819e+80+1.639144e+                    81j\n",
       "\n",
       "[19999 rows x 2 columns]"
      ]
     },
     "execution_count": 826,
     "metadata": {},
     "output_type": "execute_result"
    }
   ],
   "source": [
    "df"
   ]
  },
  {
   "cell_type": "code",
   "execution_count": 669,
   "id": "e5e11048-30ce-49e5-8ef0-6d6f3fe398ea",
   "metadata": {},
   "outputs": [
    {
     "data": {
      "text/plain": [
       "19999"
      ]
     },
     "execution_count": 669,
     "metadata": {},
     "output_type": "execute_result"
    }
   ],
   "source": [
    "len(raman_intensity)"
   ]
  },
  {
   "cell_type": "code",
   "execution_count": 364,
   "id": "926e8919-b2e2-4602-bd13-ebe7e5f128cf",
   "metadata": {},
   "outputs": [
    {
     "data": {
      "text/plain": [
       "array([4.52826620e+04, 9.05653239e+04, 1.35847986e+05, ...,\n",
       "       9.05517391e+08, 9.05562674e+08, 9.05607957e+08])"
      ]
     },
     "execution_count": 364,
     "metadata": {},
     "output_type": "execute_result"
    }
   ],
   "source": [
    "lineshape_frequencies_wn"
   ]
  },
  {
   "cell_type": "code",
   "execution_count": 700,
   "id": "bad78d80-0a27-43d0-a5af-79f7f96b884c",
   "metadata": {},
   "outputs": [],
   "source": [
    "lineshape = fftpack.dct(acorr1, type=1)[1:]\n",
    "lineshape_frequencies = np.linspace(0, 0.5/timesteps, len(acorr1))[1:]\n",
    "\n",
    "\n",
    "max_freq_wn = zoom_wavenum\n",
    "max_freq_hz = max_freq_wn * 3.3356E-11 * 100 * lightspeed\n",
    "max_freq_index = int(max_freq_hz * timestep / 0.5)\n",
    "# lineshape_frequencies = np.linspace(0, 0.5/timestep, max_freq_index + 1)[1:]\n",
    "lineshape_frequencies_wn = lineshape_frequencies / (100.*lightspeed)"
   ]
  },
  {
   "cell_type": "code",
   "execution_count": 701,
   "id": "33bff244-36cf-4c29-ac3b-8f83d5e21ead",
   "metadata": {},
   "outputs": [],
   "source": [
    "freqs = lineshape_frequencies_wn\n",
    "spectrum = lineshape"
   ]
  },
  {
   "cell_type": "code",
   "execution_count": 702,
   "id": "4f187e95-dffd-44cd-9eb5-ff426f543a4e",
   "metadata": {},
   "outputs": [
    {
     "data": {
      "text/plain": [
       "6.283185307179586"
      ]
     },
     "execution_count": 702,
     "metadata": {},
     "output_type": "execute_result"
    }
   ],
   "source": [
    "omega_in"
   ]
  },
  {
   "cell_type": "code",
   "execution_count": 703,
   "id": "1d97b9e9-aa8b-4d1e-a7ea-06017c72f03e",
   "metadata": {},
   "outputs": [],
   "source": [
    "# raman_intensity = (\n",
    "#     spectrum\n",
    "#     * np.exp(-1j * freqs * timesteps)\n",
    "#     * (omega_in - freqs) ** 4 \n",
    "#     / freqs \n",
    "#     / (1 - np.exp(-(freqs * reduced_planck)/(kb * temp)))\n",
    "# )\n",
    "mask = freqs != 0\n",
    "\n",
    "raman_intensity = np.ma.masked_array(\n",
    "    spectrum * np.exp(-1j * freqs * timesteps) * ((omega_in - freqs) ** 4),\n",
    "    mask=~mask\n",
    ") / freqs / (1 - np.exp(-(freqs * reduced_planck) / (kb * temp)))"
   ]
  },
  {
   "cell_type": "code",
   "execution_count": 465,
   "id": "2836cc53-6d39-46a2-b391-e88113087e31",
   "metadata": {},
   "outputs": [],
   "source": [
    "# mask = (lineshape_frequencies_wn >= 0) & (lineshape_frequencies_wn <= zoom_wavenum)"
   ]
  },
  {
   "cell_type": "code",
   "execution_count": 496,
   "id": "4b40504c-58d1-4b9d-ab71-4ae3b37e684f",
   "metadata": {},
   "outputs": [
    {
     "data": {
      "text/plain": [
       "masked_array(data=[--, --, --, ..., --, --, --],\n",
       "             mask=[ True,  True,  True, ...,  True,  True,  True],\n",
       "       fill_value=(1e+20+0j),\n",
       "            dtype=complex128)"
      ]
     },
     "execution_count": 496,
     "metadata": {},
     "output_type": "execute_result"
    }
   ],
   "source": [
    "raman_intensity"
   ]
  },
  {
   "cell_type": "code",
   "execution_count": 704,
   "id": "e402de5c-6661-475d-a32e-9dd2884d8ef5",
   "metadata": {},
   "outputs": [
    {
     "data": {
      "image/png": "[encoded data removed]",
      "text/plain": [
       "<Figure size 640x480 with 1 Axes>"
      ]
     },
     "metadata": {},
     "output_type": "display_data"
    }
   ],
   "source": [
    "# Plot or further process the Raman intensity\n",
    "plt.plot(lineshape_frequencies_wn, np.abs(raman_intensity))\n",
    "plt.title(f\"Raman spectra for {mol} molecule\");\n",
    "plt.xlabel(\"Frequency (cm-1)\")\n",
    "plt.ylabel(\"Raman Intensity\")\n",
    "# plt.gca().invert_xaxis()\n",
    "plt.grid()\n",
    "plt.show()"
   ]
  },
  {
   "cell_type": "code",
   "execution_count": 228,
   "id": "1eb33e37-cc0d-4fe5-a6af-209f7c04e801",
   "metadata": {},
   "outputs": [
    {
     "name": "stdout",
     "output_type": "stream",
     "text": [
      "19999\n"
     ]
    }
   ],
   "source": [
    "print(len(raman_intensity))"
   ]
  },
  {
   "cell_type": "code",
   "execution_count": 281,
   "id": "09cb6b5b-8c63-4375-89d0-c9f1d62a3aee",
   "metadata": {},
   "outputs": [],
   "source": [
    "def slicer(data, slice_to=2):\n",
    "    return(data[: (len(data) // slice_to)])"
   ]
  },
  {
   "cell_type": "code",
   "execution_count": 282,
   "id": "d8e4c3a8-0029-425d-8d04-5fa626ebf0b3",
   "metadata": {},
   "outputs": [],
   "source": [
    "raman_intensity = slicer(raman_intensity)\n",
    "# freqs = slicer(freqs)\n",
    "l_freq_wn = slicer(lineshape_frequencies_wn)\n",
    "mask = slicer(mask)"
   ]
  },
  {
   "cell_type": "code",
   "execution_count": 279,
   "id": "076d92d2-a44c-4514-95c3-02d497f46d67",
   "metadata": {},
   "outputs": [
    {
     "data": {
      "text/plain": [
       "masked_array(data=[--, --, --, ...,\n",
       "                   (1.7950018019483048e+75-5.592005581674535e+74j),\n",
       "                   (-4.472178696640513e+72+1.3933751301126135e+72j),\n",
       "                   (1.7938000965993732e+75-5.589450881565401e+74j)],\n",
       "             mask=[ True,  True,  True, ..., False, False, False],\n",
       "       fill_value=(1e+20+0j))"
      ]
     },
     "execution_count": 279,
     "metadata": {},
     "output_type": "execute_result"
    }
   ],
   "source": [
    "raman_intensity"
   ]
  },
  {
   "cell_type": "code",
   "execution_count": 552,
   "id": "0e26e1b3-fac6-494d-a027-28d8b3404830",
   "metadata": {},
   "outputs": [
    {
     "ename": "IndexError",
     "evalue": "boolean index did not match indexed array along dimension 0; dimension is 9999 but corresponding boolean dimension is 20000",
     "output_type": "error",
     "traceback": [
      "\u001b[0;31m---------------------------------------------------------------------------\u001b[0m",
      "\u001b[0;31mIndexError\u001b[0m                                Traceback (most recent call last)",
      "Cell \u001b[0;32mIn[552], line 1\u001b[0m\n\u001b[0;32m----> 1\u001b[0m plt\u001b[38;5;241m.\u001b[39mplot(\u001b[43ml_freq_wn\u001b[49m\u001b[43m[\u001b[49m\u001b[43mmask\u001b[49m\u001b[43m]\u001b[49m, np\u001b[38;5;241m.\u001b[39mabs(raman_intensity)[mask])\n\u001b[1;32m      2\u001b[0m plt\u001b[38;5;241m.\u001b[39mxlabel(\u001b[38;5;124m\"\u001b[39m\u001b[38;5;124mFrequency (Hz)\u001b[39m\u001b[38;5;124m\"\u001b[39m)\n\u001b[1;32m      3\u001b[0m plt\u001b[38;5;241m.\u001b[39mylabel(\u001b[38;5;124m\"\u001b[39m\u001b[38;5;124mRaman Intensity\u001b[39m\u001b[38;5;124m\"\u001b[39m)\n",
      "\u001b[0;31mIndexError\u001b[0m: boolean index did not match indexed array along dimension 0; dimension is 9999 but corresponding boolean dimension is 20000"
     ]
    }
   ],
   "source": [
    "plt.plot(l_freq_wn[mask], np.abs(raman_intensity)[mask])\n",
    "plt.xlabel(\"Frequency (Hz)\")\n",
    "plt.ylabel(\"Raman Intensity\")\n",
    "plt.show()"
   ]
  },
  {
   "cell_type": "code",
   "execution_count": null,
   "id": "a76fb2a7-2de2-4ceb-a689-74416cb897fb",
   "metadata": {},
   "outputs": [],
   "source": []
  },
  {
   "cell_type": "code",
   "execution_count": null,
   "id": "c87a3fbd-caa0-4a18-80da-aa7f927c0c8e",
   "metadata": {},
   "outputs": [],
   "source": []
  },
  {
   "cell_type": "code",
   "execution_count": null,
   "id": "f52bdd2d-4757-4ce0-a11a-97a9ec84b7ae",
   "metadata": {},
   "outputs": [],
   "source": []
  }
 ],
 "metadata": {
  "kernelspec": {
   "display_name": "Python 3 (ipykernel)",
   "language": "python",
   "name": "python3"
  },
  "language_info": {
   "codemirror_mode": {
    "name": "ipython",
    "version": 3
   },
   "file_extension": ".py",
   "mimetype": "text/x-python",
   "name": "python",
   "nbconvert_exporter": "python",
   "pygments_lexer": "ipython3",
   "version": "3.8.10"
  }
 },
 "nbformat": 4,
 "nbformat_minor": 5
}
