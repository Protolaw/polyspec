{
 "cells": [
  {
   "cell_type": "code",
   "execution_count": null,
   "id": "224af683-eb87-41f2-9326-44790dcce07f",
   "metadata": {},
   "outputs": [],
   "source": [
    "import pandas as pd\n",
    "import numpy as np\n",
    "import os\n",
    "from tqdm import tqdm\n",
    "import matplotlib.pyplot as plt\n",
    "from sklearn.metrics import mean_squared_error, mean_absolute_error"
   ]
  },
  {
   "cell_type": "code",
   "execution_count": null,
   "id": "eb4dc26f-653d-4ce9-8cf7-1937c46d4733",
   "metadata": {},
   "outputs": [],
   "source": [
    "mol = \"CO2\"\n",
    "mol_path = f'./{mol}'\n",
    "files = os.listdir(mol_path)\n",
    "l = len(files)"
   ]
  },
  {
   "cell_type": "code",
   "execution_count": null,
   "id": "e0942c3b-5341-4640-b2fa-b134b6126787",
   "metadata": {},
   "outputs": [],
   "source": [
    "def parse_atom_coords(file_path):\n",
    "    with open(file_path, 'r') as file:\n",
    "        content = file.readlines()\n",
    "        file.close()\n",
    "    atomic_positions = []\n",
    "    start = False\n",
    "    for line in content:\n",
    "        if 'ATOMIC_POSITIONS' in line:\n",
    "            start = True\n",
    "        elif start and line.strip():  # Continue reading until a blank line is encountered\n",
    "            if 'K_POINTS' in line:\n",
    "                break\n",
    "            atomic_positions.append([float(coord) for coord in line.split()[1:]])\n",
    "\n",
    "    return np.array(atomic_positions)"
   ]
  },
  {
   "cell_type": "code",
   "execution_count": null,
   "id": "f84e71e6-5bc4-4aaf-b9da-6e790b847e3e",
   "metadata": {},
   "outputs": [],
   "source": [
    "scf_in = f'{mol_path}/dis_{1}/scf.in'\n",
    "def volume_calc(file_path):\n",
    "    with open(file_path, 'r') as file:\n",
    "        content = file.readlines()\n",
    "        file.close()\n",
    "    cell_units = []\n",
    "    start = False\n",
    "    for line in content:\n",
    "        if 'CELL_PARAMETERS' in line:\n",
    "            start = True\n",
    "        elif start and line.strip():  # Continue reading until a blank line is encountered\n",
    "            if 'ATOMIC_POSITIONS' in line:\n",
    "                break\n",
    "            cell_units.append([float(coord) for coord in line.split()])\n",
    "    cell_units = np.array(cell_units)\n",
    "    volume = round(np.linalg.det(cell_units), 7)\n",
    "    return volume"
   ]
  },
  {
   "cell_type": "code",
   "execution_count": null,
   "id": "48f1a261-c819-47f1-afac-3f403b408bde",
   "metadata": {},
   "outputs": [],
   "source": [
    "# coord [x, y, z] is indexed as [0, 1, 2] respectively\n",
    "\n",
    "# Works only for SO2 and CO2\n",
    "def squared_projection(p1, p2):\n",
    "    squared_dist = np.sum((p1-p2)**2, axis=0)\n",
    "    projs = [(p1[i] - p2[i]) ** 2 / squared_dist for i in range(3)]\n",
    "    r = np.sqrt(squared_dist)\n",
    "    return [projs, r]"
   ]
  },
  {
   "cell_type": "code",
   "execution_count": null,
   "id": "3d8d5b68-d0aa-4333-b101-cb37a6cd11a5",
   "metadata": {},
   "outputs": [],
   "source": [
    "# Main\n",
    "\n",
    "def diag_eps_reader(type, inn_path):\n",
    "    df = pd.read_table(f'{inn_path}/{type}', delimiter=\"\\s+\")\n",
    "    eps = df.iloc[0,1]\n",
    "    return eps\n",
    "\n",
    "def mod_polar_reader(type, inn_path):\n",
    "    df = pd.read_table(f'{inn_path}/{type}', delimiter=\"\\s+\")\n",
    "    mod_polar = (df.iloc[0,1] - 1) * volume\n",
    "    return mod_polar\n",
    "\n",
    "# Works only for system with two bonds\n",
    "std_file_path = f'{mol_path}/{mol}_0K.txt'\n",
    "if os.path.exists(std_file_path):\n",
    "    stan_coord = parse_atom_coords(file_path=std_file_path)\n",
    "    r1 = np.sqrt(np.sum((stan_coord[0]-stan_coord[1])**2, axis=0)) # Important to note that r1 and r2 are global variables\n",
    "    r2 = np.sqrt(np.sum((stan_coord[0]-stan_coord[2])**2, axis=0)) \n",
    "    volume = 1000\n",
    "    try:\n",
    "        volume = volume_calc(file_path=scf_in)\n",
    "    except:\n",
    "        pass\n",
    "else:\n",
    "    raise(\"Error: Standard file does not exists\")\n",
    "\n",
    "def collect_data():\n",
    "    equat_data = []\n",
    "    for i in tqdm(range(l)):\n",
    "        inn_path = f'{mol_path}/dis_{i}'\n",
    "        dims = ['epsxx.dat', 'epsyy.dat', 'epszz.dat', 'scf.in']\n",
    "        if os.path.exists(inn_path) and all(os.path.exists(f'{inn_path}/{dim}') for dim in dims):\n",
    "            polar_data = []\n",
    "            for dim in dims[:3]:\n",
    "                polar = mod_polar_reader(dim, inn_path)\n",
    "                polar_data.append(polar)\n",
    "    \n",
    "            atom_coords = parse_atom_coords(file_path=f'{inn_path}/scf.in')\n",
    "            \n",
    "            # We define or squared relation as \"g\"   -- > Multoiple bond squared function\n",
    "            g1, rg1 = squared_projection(atom_coords[0], atom_coords[1]) \n",
    "            g2, rg2 = squared_projection(atom_coords[0], atom_coords[2])\n",
    "    \n",
    "            dr1 = rg1 - r1\n",
    "            dr2 = rg2 - r2\n",
    "            equat_data.append([*polar_data, *g1, *g2, dr1, dr1**2, dr2, dr2**2])\n",
    "        else:\n",
    "            pass\n",
    "    \n",
    "    clmns = ['polar_x', 'polar_y', 'polar_z',\\\n",
    "             'g1_x', 'g1_y', 'g1_z',\\\n",
    "             'g2_x', 'g2_y', 'g2_z',\\\n",
    "             'dr1', 'dr1_2', 'dr2', 'dr2_2']\n",
    "    df_equat = pd.DataFrame(equat_data, columns=clmns)\n",
    "    return df_equat\n",
    "\n",
    "df_equat = collect_data()"
   ]
  },
  {
   "cell_type": "code",
   "execution_count": null,
   "id": "9a4b48aa-8b96-4183-9171-e4ffa1548222",
   "metadata": {},
   "outputs": [],
   "source": [
    "df_equat.head()"
   ]
  },
  {
   "cell_type": "code",
   "execution_count": null,
   "id": "7a9e5f0a-6a4b-40df-8f1d-f20c8d2f2239",
   "metadata": {},
   "outputs": [],
   "source": [
    "df_equat.to_csv(f'{mol_path}/equat_{mol}.csv', index=False)"
   ]
  },
  {
   "cell_type": "code",
   "execution_count": null,
   "id": "aa19b4d0-4b2f-4deb-ad2d-374072d674e0",
   "metadata": {},
   "outputs": [],
   "source": [
    "# Add Abnoramlity search\n",
    "\n",
    "def linal_sys_solve():\n",
    "    coords = ['x', 'y', 'z']\n",
    "\n",
    "    # In search of 1 global params\n",
    "    all_ans = []\n",
    "    total_coefs = []\n",
    "\n",
    "    fin_params = []\n",
    "    fin_exact_params = []\n",
    "    for k in tqdm(range(df_equat.shape[0]//4)):\n",
    "        answers = []\n",
    "        all_coefs = []\n",
    "        for j in range(4*k, 4*k+4):\n",
    "            for i in coords:\n",
    "                answers.append(df_equat[f'polar_{i}'][j])\n",
    "                coefs = [(1 - df_equat[f'g1_{i}'][j]), (1 - df_equat[f'g1_{i}'][j]) * df_equat.dr1[j],\\\n",
    "                           (1 - df_equat[f'g1_{i}'][j]) * df_equat.dr1_2[j], (1 - df_equat[f'g2_{i}'][j]),\\\n",
    "                           (1 - df_equat[f'g2_{i}'][j]) * df_equat.dr2[j], (1 - df_equat[f'g2_{i}'][j]) * df_equat.dr2_2[j],\\\n",
    "                      df_equat[f'g1_{i}'][j], df_equat[f'g1_{i}'][j]*df_equat.dr1[j], df_equat[f'g1_{i}'][j]*df_equat.dr1_2[j],\\\n",
    "                      df_equat[f'g2_{i}'][j], df_equat[f'g2_{i}'][j]*df_equat.dr2[j], df_equat[f'g2_{i}'][j]*df_equat.dr2_2[j]]\n",
    "                all_coefs.append(coefs)\n",
    "                \n",
    "                total_coefs.append(coefs)\n",
    "                all_ans.append(df_equat[f'polar_{i}'][j])\n",
    "                \n",
    "        np_coefs = np.array(all_coefs)\n",
    "        multi_params = np.linalg.lstsq(np_coefs, answers, rcond=None)[0]\n",
    "        # param_list = multi_params[:(len(multi_params)//2)]\n",
    "        # fin_params.append(param_list)\n",
    "        fin_params.append(multi_params) # if not we don't want to repeate params\n",
    "\n",
    "        # Exact solutions\n",
    "        try:\n",
    "            exact_params = np.linalg.solve(np_coefs, answers)\n",
    "            fin_exact_params.append(exact_params)\n",
    "        except:\n",
    "            pass\n",
    "\n",
    "    one_params = np.linalg.lstsq(total_coefs, all_ans, rcond=None)[0] # Global params\n",
    "        \n",
    "    return fin_params, fin_exact_params, one_params, total_coefs, all_ans"
   ]
  },
  {
   "cell_type": "code",
   "execution_count": null,
   "id": "469ac3fc-1083-473e-8b42-e9741d39d1c5",
   "metadata": {},
   "outputs": [],
   "source": []
  },
  {
   "cell_type": "code",
   "execution_count": null,
   "id": "42735ffc-fcfd-4fad-b777-24fedeef4833",
   "metadata": {},
   "outputs": [],
   "source": [
    "fin_param, fin_exact_params, one_params, np_coefs, all_ans = linal_sys_solve()\n",
    "clmns= ['a0p', 'a1p', 'a2p', 'a0l', 'a1l', 'a2l']\n",
    "clmns_2 = ['a10p', 'a11p', 'a12p', 'a10l', 'a11l', 'a12l', 'a20p', 'a21p', 'a22p', 'a20l', 'a21l', 'a22l']\n",
    "df_param_ap = pd.DataFrame(fin_param, columns=clmns_2)\n",
    "df_param_ex = pd.DataFrame(fin_exact_params, columns=clmns_2)\n",
    "print(one_params)"
   ]
  },
  {
   "cell_type": "markdown",
   "id": "75338d74-8058-4b0c-aaf5-a597ea3de9fe",
   "metadata": {},
   "source": [
    "#### If use linalg.solve, a10p and a20p is equal as other, so we can slice the param list\n",
    "\n",
    "#### df_param --> 6 columns ['a0p', 'a1p', 'a2p', 'a0l', 'a1l', 'a2l']\n",
    "\n",
    "#### df_param_2 --> 12 columns ['a10p', 'a11p', 'a12p', 'a10l', 'a11l', 'a12l', 'a20p', 'a21p', 'a22p', 'a20l', 'a21l', 'a22l']"
   ]
  },
  {
   "cell_type": "code",
   "execution_count": null,
   "id": "f4ee0102-64dd-460f-ab87-486332b7892a",
   "metadata": {},
   "outputs": [],
   "source": []
  },
  {
   "cell_type": "code",
   "execution_count": null,
   "id": "395c52d1-e0a2-45d5-b39e-786115bc5eb0",
   "metadata": {},
   "outputs": [],
   "source": [
    "mol ='SO2'\n",
    "mol_path = f'./{mol}'\n",
    "df_equat = pd.read_csv(f'{mol_path}/equat_{mol}.csv')"
   ]
  },
  {
   "cell_type": "code",
   "execution_count": null,
   "id": "5d48679d-2e6f-4e37-afb2-25cd82074208",
   "metadata": {},
   "outputs": [],
   "source": [
    "pred_eps = []\n",
    "dft_eps = []\n",
    "pred_polar = []\n",
    "for i in range(len(np_coefs)):\n",
    "    a1=np.dot(np_coefs[i], one_params)\n",
    "    pred_polar.append(a1)\n",
    "    pred_eps.append((a1/1000) + 1)\n",
    "    dft_eps.append((all_ans[i]/1000) + 1)\n",
    "    \n",
    "pred_polar_x = pred_polar[::3]\n",
    "pred_polar_y = pred_polar[1::3]\n",
    "pred_polar_z = pred_polar[2::3]\n"
   ]
  },
  {
   "cell_type": "code",
   "execution_count": null,
   "id": "36fae103-27b0-4436-880a-b524885fa23b",
   "metadata": {},
   "outputs": [],
   "source": [
    "pred_polar_xyz = {'pred_polar_x': pred_polar_x, 'pred_polar_y': pred_polar_y, 'pred_polar_z': pred_polar_z}\n",
    "pred_polar_df = pd.DataFrame(pred_polar_xyz)\n",
    "pred_polar_df.to_csv(f'{mol_path}/pred_polar_{mol}.csv', index=False)"
   ]
  },
  {
   "cell_type": "code",
   "execution_count": null,
   "id": "1c5da419-832f-4f4e-8bf6-72ee6e610822",
   "metadata": {},
   "outputs": [],
   "source": [
    "def plot(pred_eps, dft_eps):\n",
    "    fig, ax = plt.subplots();\n",
    "    scatter = ax.scatter(x=dft_eps, y=pred_eps);\n",
    "    plt.title(f\"Comparison of DFT Results with Predicted Epsilon Using Our Model for {mol}\");\n",
    "    plt.ylabel('Our model epsilon');\n",
    "    plt.xlabel('DFT epsilon');\n",
    "    plt.figure(figsize=(25,10));\n",
    "    plt.show()\n",
    "\n",
    "plot(pred_eps, dft_eps)"
   ]
  },
  {
   "cell_type": "code",
   "execution_count": null,
   "id": "fa109290-f9dc-4330-8bd4-887bdbbbae63",
   "metadata": {},
   "outputs": [],
   "source": [
    "print(\"MSE: \", mean_squared_error(dft_eps, pred_eps))\n",
    "print(\"MAE: \", mean_absolute_error(dft_eps, pred_eps))"
   ]
  },
  {
   "cell_type": "code",
   "execution_count": null,
   "id": "83e399f0-2b36-4dcd-b6b4-98b13d1f2481",
   "metadata": {},
   "outputs": [],
   "source": [
    "df_param_ex.to_csv(f'{mol_path}/exact_param_{mol}.csv', index=False)\n",
    "df_param_ap.to_csv(f'{mol_path}/approx_param_{mol}.csv', index=False)"
   ]
  },
  {
   "cell_type": "code",
   "execution_count": null,
   "id": "6e297c99-9e2f-4b53-ae80-6dacdc851f10",
   "metadata": {},
   "outputs": [],
   "source": []
  },
  {
   "cell_type": "code",
   "execution_count": null,
   "id": "449d4e78-0daa-475d-ba4b-6f55a3ebadaa",
   "metadata": {},
   "outputs": [],
   "source": [
    "import seaborn as sns"
   ]
  },
  {
   "cell_type": "markdown",
   "id": "0ffa1c1d-8b72-424f-ad31-914f4fa5ac24",
   "metadata": {},
   "source": [
    "### For CO2"
   ]
  },
  {
   "cell_type": "code",
   "execution_count": null,
   "id": "01d1c67f-e388-4fab-ab97-4c36ec74d87a",
   "metadata": {},
   "outputs": [],
   "source": [
    "mol ='CO2'\n",
    "mol_path = f'./{mol}'\n",
    "df_param_ex = pd.read_csv(f'{mol_path}/exact_param_{mol}.csv')\n",
    "df_param_ap = pd.read_csv(f'{mol_path}/approx_param_{mol}.csv')"
   ]
  },
  {
   "cell_type": "code",
   "execution_count": null,
   "id": "d3791203-24d3-4682-85f8-638f2451d586",
   "metadata": {},
   "outputs": [],
   "source": [
    "sns.heatmap(df_param_ap.corr())"
   ]
  },
  {
   "cell_type": "code",
   "execution_count": null,
   "id": "f6fc24e9-a258-4964-8ca2-b72f3a028cd3",
   "metadata": {},
   "outputs": [],
   "source": [
    "sns.heatmap(df_param_ex.corr())"
   ]
  },
  {
   "cell_type": "markdown",
   "id": "8f722bc8-89ca-4983-8a99-cb371316adda",
   "metadata": {},
   "source": [
    "### For SO2"
   ]
  },
  {
   "cell_type": "code",
   "execution_count": null,
   "id": "334bd21a-09f9-4cb6-8479-d7d7fbe11a78",
   "metadata": {},
   "outputs": [],
   "source": [
    "mol ='SO2'\n",
    "mol_path = f'./{mol}'\n",
    "df_param_ex = pd.read_csv(f'{mol_path}/exact_param_{mol}.csv')\n",
    "df_param_ap = pd.read_csv(f'{mol_path}/approx_param_{mol}.csv')"
   ]
  },
  {
   "cell_type": "code",
   "execution_count": null,
   "id": "f5958d6f-91e0-484a-9920-14145a62dc7e",
   "metadata": {},
   "outputs": [],
   "source": [
    "sns.heatmap(df_param_ap.corr())"
   ]
  },
  {
   "cell_type": "code",
   "execution_count": null,
   "id": "a2cf1a5a-7793-4029-bad3-7f97f75a4439",
   "metadata": {},
   "outputs": [],
   "source": [
    "sns.heatmap(df_param_ex.corr())"
   ]
  },
  {
   "cell_type": "code",
   "execution_count": null,
   "id": "3a83b1ba-1421-429f-966f-32f9aaec1d24",
   "metadata": {},
   "outputs": [],
   "source": []
  },
  {
   "cell_type": "markdown",
   "id": "818e5937-d152-4552-8600-c8eff4350107",
   "metadata": {},
   "source": [
    "### Number of unique sets of polarization constants for molecules"
   ]
  },
  {
   "cell_type": "code",
   "execution_count": null,
   "id": "75619ce6-8f1b-4df8-9354-4a88f9139f25",
   "metadata": {},
   "outputs": [],
   "source": [
    "from sklearn.cluster import KMeans\n",
    "from sklearn.preprocessing import StandardScaler"
   ]
  },
  {
   "cell_type": "code",
   "execution_count": null,
   "id": "f85e4a10-7f7b-4e4d-920c-a42917489077",
   "metadata": {},
   "outputs": [],
   "source": [
    "df_param_ex = pd.read_csv(f'{mol_path}/exact_param_{mol}.csv')\n",
    "mol"
   ]
  },
  {
   "cell_type": "code",
   "execution_count": null,
   "id": "a32e6dfc-66ca-4a29-af19-9c866bf56c60",
   "metadata": {},
   "outputs": [],
   "source": [
    "# Similarity of sets (Correlation) For SO2\n",
    "\n",
    "# ex_data = df_param_ex\n",
    "scaler = StandardScaler()\n",
    "df_scaled = scaler.fit_transform(df_param_ex)\n",
    "\n",
    "distortions = []\n",
    "k_range = []  # You can adjust the range based on your specific dataset\n",
    "k = 1\n",
    "while True:\n",
    "# for k in k_range:\n",
    "    kmeans = KMeans(n_clusters=k, n_init=\"auto\")\n",
    "    kmeans.fit(df_scaled)\n",
    "    dist = kmeans.inertia_\n",
    "    distortions.append(dist)\n",
    "    k_range.append(k)\n",
    "    # print(k)\n",
    "    if k % 21 == 0:\n",
    "        print(k)\n",
    "        print(dist)\n",
    "    elif dist < 1:\n",
    "        print(dist)\n",
    "        print(k)\n",
    "        break\n",
    "    k += 20\n"
   ]
  },
  {
   "cell_type": "code",
   "execution_count": null,
   "id": "2d9a2b83-0f36-47bb-bc95-ee37f89412a9",
   "metadata": {},
   "outputs": [],
   "source": [
    "# Plot the elbow\n",
    "plt.plot(k_range, distortions, marker='o')\n",
    "plt.xlabel('Number of clusters')\n",
    "plt.ylabel('Distortion')\n",
    "plt.title('Elbow Method for Optimal k')\n",
    "plt.show()"
   ]
  }
 ],
 "metadata": {
  "kernelspec": {
   "display_name": "Python 3 (ipykernel)",
   "language": "python",
   "name": "python3"
  },
  "language_info": {
   "codemirror_mode": {
    "name": "ipython",
    "version": 3
   },
   "file_extension": ".py",
   "mimetype": "text/x-python",
   "name": "python",
   "nbconvert_exporter": "python",
   "pygments_lexer": "ipython3",
   "version": "3.8.10"
  }
 },
 "nbformat": 4,
 "nbformat_minor": 5
}
